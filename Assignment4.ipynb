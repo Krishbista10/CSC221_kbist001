{
  "nbformat": 4,
  "nbformat_minor": 0,
  "metadata": {
    "colab": {
      "provenance": [],
      "authorship_tag": "ABX9TyNC5TZFMBayGhPOm9kmZNfv",
      "include_colab_link": true
    },
    "kernelspec": {
      "name": "python3",
      "display_name": "Python 3"
    },
    "language_info": {
      "name": "python"
    }
  },
  "cells": [
    {
      "cell_type": "markdown",
      "metadata": {
        "id": "view-in-github",
        "colab_type": "text"
      },
      "source": [
        "<a href=\"https://colab.research.google.com/github/Krishbista10/CSC221_kbist001/blob/main/Assignment4.ipynb\" target=\"_parent\"><img src=\"https://colab.research.google.com/assets/colab-badge.svg\" alt=\"Open In Colab\"/></a>"
      ]
    },
    {
      "cell_type": "code",
      "execution_count": 25,
      "metadata": {
        "colab": {
          "base_uri": "https://localhost:8080/"
        },
        "id": "bIWmhsbIof-v",
        "outputId": "db56d896-fb1e-4ca4-ecc4-3a4dff209482"
      },
      "outputs": [
        {
          "output_type": "stream",
          "name": "stdout",
          "text": [
            "Emma\n",
            "Liam\n",
            "Olivia\n"
          ]
        }
      ],
      "source": [
        "#TIY 3-1\n",
        "names = [\"Emma\", \"Liam\", \"Olivia\"]\n",
        "for name in names:\n",
        "  print(name)\n"
      ]
    },
    {
      "cell_type": "code",
      "source": [
        "#TIY 3-2\n",
        "names = [\"Emma\", \"Liam\", \"Olivia\"]\n",
        "for name in names:\n",
        "  message = (f\"Hi {name}! How are you?\")\n",
        "  print(message)\n"
      ],
      "metadata": {
        "colab": {
          "base_uri": "https://localhost:8080/"
        },
        "id": "Drmx3BG6q95x",
        "outputId": "e9e7c222-6b31-4a49-e230-c8df128aca1f"
      },
      "execution_count": 26,
      "outputs": [
        {
          "output_type": "stream",
          "name": "stdout",
          "text": [
            "Hi Emma! How are you?\n",
            "Hi Liam! How are you?\n",
            "Hi Olivia! How are you?\n"
          ]
        }
      ]
    },
    {
      "cell_type": "code",
      "source": [
        "#TIY 3-3\n",
        "transportation_mode = [\"plane\", \"car\", \"motorcycle\"]\n",
        "for mode in transportation_mode:\n",
        "  print(f\"I would like to own {mode}. \")\n"
      ],
      "metadata": {
        "colab": {
          "base_uri": "https://localhost:8080/"
        },
        "id": "PC6FLVArrVTl",
        "outputId": "ad88e1d7-09c4-488d-d6b4-1ce69a71f0a3"
      },
      "execution_count": 27,
      "outputs": [
        {
          "output_type": "stream",
          "name": "stdout",
          "text": [
            "I would like to own plane. \n",
            "I would like to own car. \n",
            "I would like to own motorcycle. \n"
          ]
        }
      ]
    },
    {
      "cell_type": "code",
      "source": [
        "#TIY 3-4\n",
        "guest_list = [\"Michael\", \"Sophia\", \"Ethan\"]\n",
        "for name in guest_list:\n",
        "  print(f\"\\nHi {name}!, I would like to invite you to dinner\")\n"
      ],
      "metadata": {
        "colab": {
          "base_uri": "https://localhost:8080/"
        },
        "id": "lb53q4CzrYpN",
        "outputId": "8c07fcb1-9236-4949-d970-4ee059916e34"
      },
      "execution_count": 28,
      "outputs": [
        {
          "output_type": "stream",
          "name": "stdout",
          "text": [
            "\n",
            "Hi Michael!, I would like to invite you to dinner\n",
            "\n",
            "Hi Sophia!, I would like to invite you to dinner\n",
            "\n",
            "Hi Ethan!, I would like to invite you to dinner\n"
          ]
        }
      ]
    },
    {
      "cell_type": "code",
      "source": [
        "#TIY 3-5\n",
        "guest_list = [\"Michael\", \"Sophia\", \"Ethan\"]\n",
        "guest_unavailable = guest_list[1]\n",
        "guest_new = \"Mia\"\n",
        "\n",
        "print(f\"{guest_unavailable} can't make it to dinner.\")\n",
        "\n",
        "guest_list.remove(guest_list[1])\n",
        "guest_list.append(guest_new)\n",
        "\n",
        "for name in guest_list:\n",
        "  print(f\"\\nHi {name}!, I would like to invite you to dinner\")\n"
      ],
      "metadata": {
        "colab": {
          "base_uri": "https://localhost:8080/"
        },
        "id": "Nrge5lb8rcao",
        "outputId": "102f4fd0-626c-4dff-902d-b353c99b2722"
      },
      "execution_count": 29,
      "outputs": [
        {
          "output_type": "stream",
          "name": "stdout",
          "text": [
            "Sophia can't make it to dinner.\n",
            "\n",
            "Hi Michael!, I would like to invite you to dinner\n",
            "\n",
            "Hi Ethan!, I would like to invite you to dinner\n",
            "\n",
            "Hi Mia!, I would like to invite you to dinner\n"
          ]
        }
      ]
    },
    {
      "cell_type": "code",
      "source": [
        "#TIY 3-6\n",
        "guest_list = [\"Michael\", \"Sophia\", \"Ethan\"]\n",
        "guest_unavailable = guest_list[1]\n",
        "guest_new = \"Mia\"\n",
        "\n",
        "print(f\"{guest_unavailable} can't make it to dinner.\")\n",
        "\n",
        "guest_list.remove(guest_list[1])\n",
        "guest_list.append(guest_new)\n",
        "\n",
        "print(\"\\nHi , I would like to inform everyone that I got a bigger dining table\")\n",
        "\n",
        "guest_list.insert(0, \"Alexander\")\n",
        "guest_list.insert(2, \"Charlotte\")\n",
        "guest_list.append(\"William\")\n",
        "\n",
        "for name in guest_list:\n",
        "  print(f\"\\nHi {name}!, I would like to invite you to dinner\")\n"
      ],
      "metadata": {
        "colab": {
          "base_uri": "https://localhost:8080/"
        },
        "id": "eJF1TZyYrmeD",
        "outputId": "c36a43a9-04aa-4f88-f5b0-ee95fae247f2"
      },
      "execution_count": 30,
      "outputs": [
        {
          "output_type": "stream",
          "name": "stdout",
          "text": [
            "Sophia can't make it to dinner.\n",
            "\n",
            "Hi , I would like to inform everyone that I got a bigger dining table\n",
            "\n",
            "Hi Alexander!, I would like to invite you to dinner\n",
            "\n",
            "Hi Michael!, I would like to invite you to dinner\n",
            "\n",
            "Hi Charlotte!, I would like to invite you to dinner\n",
            "\n",
            "Hi Ethan!, I would like to invite you to dinner\n",
            "\n",
            "Hi Mia!, I would like to invite you to dinner\n",
            "\n",
            "Hi William!, I would like to invite you to dinner\n"
          ]
        }
      ]
    },
    {
      "cell_type": "code",
      "source": [
        "#TIY 3-7\n",
        "guest_list = [\"Michael\", \"Sophia\", \"Ethan\"]\n",
        "guest_unavailable = guest_list[1]\n",
        "guest_new = \"Mia\"\n",
        "\n",
        "print(f\"{guest_unavailable} can't make it to dinner.\")\n",
        "\n",
        "guest_list.remove(guest_list[1])\n",
        "guest_list.append(guest_new)\n",
        "\n",
        "print(\"\\nHi , I would like to inform everyone that I got a bigger dining table\\n\")\n",
        "\n",
        "guest_list.insert(0, \"Alexander\")\n",
        "guest_list.insert(2, \"Charlotte\")\n",
        "guest_list.append(\"William\")\n",
        "\n",
        "for name in guest_list:\n",
        "  print(f\"Hi {name}!, I would like to invite you to dinner\")\n",
        "print(\"\\nHi , I got to know that I can only invite two people for dinner.\\n\")\n",
        "\n",
        "while len(guest_list) > 2:\n",
        "    removed_guest = guest_list.pop()\n",
        "    print(f\"Sorry {removed_guest}, I can't invite you to dinner.\")\n",
        "\n",
        "for name in guest_list:\n",
        "    print(f\"\\nHi {name}!, You're still invited to dinner.\")\n",
        "\n",
        "del guest_list[:]\n",
        "print(guest_list)\n"
      ],
      "metadata": {
        "colab": {
          "base_uri": "https://localhost:8080/"
        },
        "id": "PKkXPY5grt9M",
        "outputId": "a5773780-6a68-47b5-a229-941c2a208888"
      },
      "execution_count": 31,
      "outputs": [
        {
          "output_type": "stream",
          "name": "stdout",
          "text": [
            "Sophia can't make it to dinner.\n",
            "\n",
            "Hi , I would like to inform everyone that I got a bigger dining table\n",
            "\n",
            "Hi Alexander!, I would like to invite you to dinner\n",
            "Hi Michael!, I would like to invite you to dinner\n",
            "Hi Charlotte!, I would like to invite you to dinner\n",
            "Hi Ethan!, I would like to invite you to dinner\n",
            "Hi Mia!, I would like to invite you to dinner\n",
            "Hi William!, I would like to invite you to dinner\n",
            "\n",
            "Hi , I got to know that I can only invite two people for dinner.\n",
            "\n",
            "Sorry William, I can't invite you to dinner.\n",
            "Sorry Mia, I can't invite you to dinner.\n",
            "Sorry Ethan, I can't invite you to dinner.\n",
            "Sorry Charlotte, I can't invite you to dinner.\n",
            "\n",
            "Hi Alexander!, You're still invited to dinner.\n",
            "\n",
            "Hi Michael!, You're still invited to dinner.\n",
            "[]\n"
          ]
        }
      ]
    },
    {
      "cell_type": "code",
      "source": [
        "#TIY 3-8\n",
        "places = [\"Paris\", \"London\", \"New York\", \"Sydney\", \"Rome\"]\n",
        "print(places)\n",
        "\n",
        "print(sorted(places))\n",
        "\n",
        "print(places)\n",
        "\n",
        "print(sorted(places, reverse=True))\n",
        "\n",
        "print(places)\n",
        "\n",
        "places.reverse()\n",
        "print(places)\n",
        "\n",
        "places.reverse()\n",
        "print(places)\n",
        "\n",
        "places.sort()\n",
        "print(places)\n",
        "\n",
        "places.sort(reverse=True)\n",
        "print(places)\n"
      ],
      "metadata": {
        "colab": {
          "base_uri": "https://localhost:8080/"
        },
        "id": "y-KFDmJir4T5",
        "outputId": "96c04366-db03-4bc2-872d-013f6decca29"
      },
      "execution_count": 32,
      "outputs": [
        {
          "output_type": "stream",
          "name": "stdout",
          "text": [
            "['Paris', 'London', 'New York', 'Sydney', 'Rome']\n",
            "['London', 'New York', 'Paris', 'Rome', 'Sydney']\n",
            "['Paris', 'London', 'New York', 'Sydney', 'Rome']\n",
            "['Sydney', 'Rome', 'Paris', 'New York', 'London']\n",
            "['Paris', 'London', 'New York', 'Sydney', 'Rome']\n",
            "['Rome', 'Sydney', 'New York', 'London', 'Paris']\n",
            "['Paris', 'London', 'New York', 'Sydney', 'Rome']\n",
            "['London', 'New York', 'Paris', 'Rome', 'Sydney']\n",
            "['Sydney', 'Rome', 'Paris', 'New York', 'London']\n"
          ]
        }
      ]
    },
    {
      "cell_type": "code",
      "source": [
        "#TIY 3-9\n",
        "#I chose 3-5\n",
        "\n",
        "guest_list = [\"Michael\", \"Sophia\", \"Ethan\"]\n",
        "guest_unavailable = guest_list[1]\n",
        "guest_new = \"Mia\"\n",
        "\n",
        "print(f\"{guest_unavailable} can't make it to dinner.\")\n",
        "\n",
        "guest_list.remove(guest_list[1])\n",
        "guest_list.append(guest_new)\n",
        "\n",
        "for name in guest_list:\n",
        "  print(f\"\\nHi {name}!, I would like to invite you to dinner\")\n",
        "\n",
        "print(f\"\\nI am inviting {len(guest_list)} people to dinner.\")\n"
      ],
      "metadata": {
        "colab": {
          "base_uri": "https://localhost:8080/"
        },
        "id": "9meKl7DFsF4t",
        "outputId": "c351d14d-4da3-4e58-d9fd-10391e67db26"
      },
      "execution_count": 33,
      "outputs": [
        {
          "output_type": "stream",
          "name": "stdout",
          "text": [
            "Sophia can't make it to dinner.\n",
            "\n",
            "Hi Michael!, I would like to invite you to dinner\n",
            "\n",
            "Hi Ethan!, I would like to invite you to dinner\n",
            "\n",
            "Hi Mia!, I would like to invite you to dinner\n",
            "\n",
            "I am inviting 3 people to dinner.\n"
          ]
        }
      ]
    },
    {
      "cell_type": "code",
      "source": [
        "#FIY 3-10\n",
        "countries = [\"Spain\", \"Argentina\", \"Portugal\", \"China\",\"Japan\"]\n",
        "\n",
        "print(f\"The first country in the list is {countries[0]}\")\n",
        "\n",
        "countries[2] = \"Brazil\"\n",
        "#MODIFYING the list\n",
        "print(countries)\n",
        "\n",
        "#adding another country at the end of the list\n",
        "countries.append(\"Thailand\")\n",
        "print(countries)\n",
        "\n",
        "#inserting a country in the list\n",
        "countries.insert(3, \" North Korea\")\n",
        "print(countries)\n",
        "\n",
        "#removing an item from a list\n",
        "#deletes the item on 4th index\n",
        "del countries[4]\n",
        "print(countries)\n",
        "\n",
        "#removing an item using pop, it removes the last item on the list\n",
        "countries.pop()\n",
        "print(countries)\n",
        "\n",
        "#removing an item using remove() method, it removes brazil from the list\n",
        "countries.remove(\"Brazil\")\n",
        "print(countries)\n",
        "\n",
        "#sorting the list permanently with sort()\n",
        "countries.sort()\n",
        "print(countries)\n",
        "\n",
        "##sorting the list temorarily with sorted()\n",
        "sorted(countries)\n",
        "print(countries)\n",
        "\n",
        "countries.reverse()\n",
        "print(countries)\n",
        "\n",
        "\n",
        "print(f\"There are {len(countries)} countries in the list.\")\n"
      ],
      "metadata": {
        "colab": {
          "base_uri": "https://localhost:8080/"
        },
        "id": "rXYy2qDDsNEe",
        "outputId": "f934d65b-81f6-4c88-965c-6603b73a8ee8"
      },
      "execution_count": 34,
      "outputs": [
        {
          "output_type": "stream",
          "name": "stdout",
          "text": [
            "The first country in the list is Spain\n",
            "['Spain', 'Argentina', 'Brazil', 'China', 'Japan']\n",
            "['Spain', 'Argentina', 'Brazil', 'China', 'Japan', 'Thailand']\n",
            "['Spain', 'Argentina', 'Brazil', ' North Korea', 'China', 'Japan', 'Thailand']\n",
            "['Spain', 'Argentina', 'Brazil', ' North Korea', 'Japan', 'Thailand']\n",
            "['Spain', 'Argentina', 'Brazil', ' North Korea', 'Japan']\n",
            "['Spain', 'Argentina', ' North Korea', 'Japan']\n",
            "[' North Korea', 'Argentina', 'Japan', 'Spain']\n",
            "[' North Korea', 'Argentina', 'Japan', 'Spain']\n",
            "['Spain', 'Japan', 'Argentina', ' North Korea']\n",
            "There are 4 countries in the list.\n"
          ]
        }
      ]
    },
    {
      "cell_type": "code",
      "source": [
        "#FIY 3-11\n",
        "#making an index error\n",
        "#my_list = [5,6,7]\n",
        "#print(my_list[3])\n",
        "#the above 2 codes gives index error since there is no 4th element to access\n",
        "\n",
        "#I'll fix it now\n",
        "my_list = [5,6,7]\n",
        "print(my_list[2])"
      ],
      "metadata": {
        "colab": {
          "base_uri": "https://localhost:8080/"
        },
        "id": "yhqzmiaPtNYi",
        "outputId": "010b1aeb-4e73-428d-a8f6-d9f2f935d2f2"
      },
      "execution_count": 35,
      "outputs": [
        {
          "output_type": "stream",
          "name": "stdout",
          "text": [
            "7\n"
          ]
        }
      ]
    }
  ]
}