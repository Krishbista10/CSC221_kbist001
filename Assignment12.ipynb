{
  "nbformat": 4,
  "nbformat_minor": 0,
  "metadata": {
    "colab": {
      "provenance": [],
      "authorship_tag": "ABX9TyNVRjTqbPJuVSS3lC9jWQJZ",
      "include_colab_link": true
    },
    "kernelspec": {
      "name": "python3",
      "display_name": "Python 3"
    },
    "language_info": {
      "name": "python"
    }
  },
  "cells": [
    {
      "cell_type": "markdown",
      "metadata": {
        "id": "view-in-github",
        "colab_type": "text"
      },
      "source": [
        "<a href=\"https://colab.research.google.com/github/Krishbista10/CSC221_kbist001/blob/main/Assignment12.ipynb\" target=\"_parent\"><img src=\"https://colab.research.google.com/assets/colab-badge.svg\" alt=\"Open In Colab\"/></a>"
      ]
    },
    {
      "cell_type": "markdown",
      "source": [
        "Collab your own design"
      ],
      "metadata": {
        "id": "twYCubxDrMNK"
      }
    },
    {
      "cell_type": "code",
      "execution_count": 6,
      "metadata": {
        "colab": {
          "base_uri": "https://localhost:8080/"
        },
        "id": "3zNBFzMzpx7u",
        "outputId": "b6663452-20b4-4b1d-eb96-94a3c1a0933a"
      },
      "outputs": [
        {
          "output_type": "stream",
          "name": "stdout",
          "text": [
            "Contents of the wallet:\n",
            "$1.00\n",
            "$1.00\n",
            "$5.00\n",
            "$10.00\n",
            "$0.25\n",
            "$0.25\n",
            "$0.05\n",
            "$0.05\n",
            "$0.10\n",
            "$0.10\n",
            "$0.10\n",
            "$0.01\n",
            "$0.01\n",
            "$0.01\n",
            "$0.01\n",
            "Total money in wallet: 17.940000000000012\n"
          ]
        }
      ],
      "source": [
        "class Money:\n",
        "    def __init__(self, value):\n",
        "        self.value = value\n",
        "\n",
        "    def __str__(self):\n",
        "        return f\"${self.value:.2f}\"\n",
        "\n",
        "\n",
        "class Bills(Money):\n",
        "    def __init__(self, value):\n",
        "        super().__init__(value)\n",
        "\n",
        "\n",
        "class Coins(Money):\n",
        "    def __init__(self, value):\n",
        "        super().__init__(value)\n",
        "\n",
        "\n",
        "class One(Bills):\n",
        "    def __init__(self):\n",
        "        super().__init__(1.00)\n",
        "\n",
        "\n",
        "class Five(Bills):\n",
        "    def __init__(self):\n",
        "        super().__init__(5.00)\n",
        "\n",
        "\n",
        "class Ten(Bills):\n",
        "    def __init__(self):\n",
        "        super().__init__(10.00)\n",
        "\n",
        "\n",
        "class Twenty(Bills):\n",
        "    def __init__(self):\n",
        "        super().__init__(20.00)\n",
        "\n",
        "\n",
        "class Penny(Coins):\n",
        "    def __init__(self):\n",
        "        super().__init__(0.01)\n",
        "\n",
        "\n",
        "class Nickel(Coins):\n",
        "    def __init__(self):\n",
        "        super().__init__(0.05)\n",
        "\n",
        "\n",
        "class Dime(Coins):\n",
        "    def __init__(self):\n",
        "        super().__init__(0.10)\n",
        "\n",
        "\n",
        "class Quarter(Coins):\n",
        "    def __init__(self):\n",
        "        super().__init__(0.25)\n",
        "\n",
        "\n",
        "def test_wallet():\n",
        "    # Creating a wallet with various bills and coins\n",
        "    wallet = [\n",
        "        One(),\n",
        "        One(),\n",
        "        Five(),\n",
        "        Ten(),\n",
        "        Quarter(),\n",
        "        Quarter(),\n",
        "        Nickel(),\n",
        "        Nickel(),\n",
        "        Dime(),\n",
        "        Dime(),\n",
        "        Dime(),\n",
        "        Penny(),\n",
        "        Penny(),\n",
        "        Penny(),\n",
        "        Penny()\n",
        "    ]\n",
        "\n",
        "    # Calculating total sum of money in the wallet\n",
        "    total = sum(money.value for money in wallet)\n",
        "\n",
        "    # Printing contents of the wallet\n",
        "    print(\"Contents of the wallet:\")\n",
        "    for money in wallet:\n",
        "        print(money)\n",
        "\n",
        "    # Printing total sum of money in the wallet\n",
        "    print(\"Total money in wallet:\", total)\n",
        "\n",
        "    # Test correctness\n",
        "    assert abs(total - 17.94) < 0.001\n",
        "\n",
        "\n",
        "if __name__ == \"__main__\":\n",
        "    test_wallet()\n"
      ]
    },
    {
      "cell_type": "markdown",
      "source": [
        "considering a scenario where we want to represent different types of vehicles, such as cars, trucks, and motorcycles. We can use inheritance to create a hierarchy of vehicle classes."
      ],
      "metadata": {
        "id": "CcMPN7JMrD4A"
      }
    },
    {
      "cell_type": "code",
      "source": [
        "class Vehicle:\n",
        "    def __init__(self, make, model, year):\n",
        "        self.make = make\n",
        "        self.model = model\n",
        "        self.year = year\n",
        "\n",
        "    def __str__(self):\n",
        "        return f\"{self.year} {self.make} {self.model}\"\n",
        "\n",
        "\n",
        "class Car(Vehicle):\n",
        "    def __init__(self, make, model, year, num_doors):\n",
        "        super().__init__(make, model, year)\n",
        "        self.num_doors = num_doors\n",
        "\n",
        "\n",
        "class Truck(Vehicle):\n",
        "    def __init__(self, make, model, year, payload_capacity):\n",
        "        super().__init__(make, model, year)\n",
        "        self.payload_capacity = payload_capacity\n",
        "\n",
        "\n",
        "class Motorcycle(Vehicle):\n",
        "    def __init__(self, make, model, year, engine_displacement):\n",
        "        super().__init__(make, model, year)\n",
        "        self.engine_displacement = engine_displacement\n",
        "\n",
        "\n",
        "# Test example\n",
        "if __name__ == \"__main__\":\n",
        "    car = Car(\"Toyota\", \"Camry\", 2022, 4)\n",
        "    truck = Truck(\"Ford\", \"F-150\", 2020, \"2000 lbs\")\n",
        "    motorcycle = Motorcycle(\"Harley-Davidson\", \"Sportster\", 2021, \"1200 cc\")\n",
        "\n",
        "    print(car)\n",
        "    print(truck)\n",
        "    print(motorcycle)\n"
      ],
      "metadata": {
        "colab": {
          "base_uri": "https://localhost:8080/"
        },
        "id": "GpvAASNqp6b_",
        "outputId": "7de01733-25c4-4a1b-9a62-35b71a7f445c"
      },
      "execution_count": 7,
      "outputs": [
        {
          "output_type": "stream",
          "name": "stdout",
          "text": [
            "2022 Toyota Camry\n",
            "2020 Ford F-150\n",
            "2021 Harley-Davidson Sportster\n"
          ]
        }
      ]
    },
    {
      "cell_type": "code",
      "source": [],
      "metadata": {
        "id": "mQFA9-vSrTHU"
      },
      "execution_count": null,
      "outputs": []
    }
  ]
}