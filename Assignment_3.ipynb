{
  "nbformat": 4,
  "nbformat_minor": 0,
  "metadata": {
    "colab": {
      "provenance": [],
      "authorship_tag": "ABX9TyPOVWFZTGpPf9Ah6j+krvHD",
      "include_colab_link": true
    },
    "kernelspec": {
      "name": "python3",
      "display_name": "Python 3"
    },
    "language_info": {
      "name": "python"
    }
  },
  "cells": [
    {
      "cell_type": "markdown",
      "metadata": {
        "id": "view-in-github",
        "colab_type": "text"
      },
      "source": [
        "<a href=\"https://colab.research.google.com/github/Krishbista10/CSC221_kbist001/blob/main/Assignment_3.ipynb\" target=\"_parent\"><img src=\"https://colab.research.google.com/assets/colab-badge.svg\" alt=\"Open In Colab\"/></a>"
      ]
    },
    {
      "cell_type": "code",
      "execution_count": 18,
      "metadata": {
        "colab": {
          "base_uri": "https://localhost:8080/"
        },
        "id": "MgLUu_lUMppF",
        "outputId": "a1a7c448-49ed-4384-f599-44a69bd3bf45"
      },
      "outputs": [
        {
          "output_type": "stream",
          "name": "stdout",
          "text": [
            "Hi my name is Krish\n"
          ]
        }
      ],
      "source": [
        "#TIY 2-1\n",
        "simple_message = \"Hi my name is Krish\"\n",
        "print(simple_message)"
      ]
    },
    {
      "cell_type": "code",
      "source": [
        "#TIY 2-2\n",
        "message = \"Hi I am 20 years old\"\n",
        "print(message)"
      ],
      "metadata": {
        "colab": {
          "base_uri": "https://localhost:8080/"
        },
        "id": "QNUF64EENOoR",
        "outputId": "a8fc3c66-47da-47d4-ab1f-bc791227ad60"
      },
      "execution_count": 19,
      "outputs": [
        {
          "output_type": "stream",
          "name": "stdout",
          "text": [
            "Hi I am 20 years old\n"
          ]
        }
      ]
    },
    {
      "cell_type": "code",
      "source": [
        "#changing the message\n",
        "message = \"Hello I am from Nepal\"\n",
        "print(message)"
      ],
      "metadata": {
        "colab": {
          "base_uri": "https://localhost:8080/"
        },
        "id": "HeuzXQ1UNX-I",
        "outputId": "bcf29523-7bfe-465d-9611-24e152196c94"
      },
      "execution_count": 20,
      "outputs": [
        {
          "output_type": "stream",
          "name": "stdout",
          "text": [
            "Hello I am from Nepal\n"
          ]
        }
      ]
    },
    {
      "cell_type": "code",
      "source": [
        "#TIY 2-3\n",
        "person_name = \"Krish\"\n",
        "print(f\"Hello {person_name}, would you like to learn some Python\")"
      ],
      "metadata": {
        "colab": {
          "base_uri": "https://localhost:8080/"
        },
        "id": "5xBAnPTINrd4",
        "outputId": "f752a379-43c3-4512-d4a2-285ff38de296"
      },
      "execution_count": 21,
      "outputs": [
        {
          "output_type": "stream",
          "name": "stdout",
          "text": [
            "Hello Krish, would you like to learn some Python\n"
          ]
        }
      ]
    },
    {
      "cell_type": "code",
      "source": [
        "#TIY 2-4\n",
        "name = \"lionel Messi\"\n",
        "print(name.lower())\n",
        "print(name.upper())\n",
        "print(name.title())"
      ],
      "metadata": {
        "colab": {
          "base_uri": "https://localhost:8080/"
        },
        "id": "t0czHRa2Oy7W",
        "outputId": "ec9ee099-994c-41f4-fc46-19726f73b52b"
      },
      "execution_count": 22,
      "outputs": [
        {
          "output_type": "stream",
          "name": "stdout",
          "text": [
            "lionel messi\n",
            "LIONEL MESSI\n",
            "Lionel Messi\n"
          ]
        }
      ]
    },
    {
      "cell_type": "code",
      "source": [
        "#TIY 2-5\n",
        "name = \"Ed Sheeran\"\n",
        "quote = \"Be original; don't be scared of being bold!\"\n",
        "print(f'{name} once said, \"{quote}\"')"
      ],
      "metadata": {
        "colab": {
          "base_uri": "https://localhost:8080/"
        },
        "id": "-psmils2PLlK",
        "outputId": "15533d4c-f87c-4892-818b-453e9e176563"
      },
      "execution_count": 23,
      "outputs": [
        {
          "output_type": "stream",
          "name": "stdout",
          "text": [
            "Ed Sheeran once said, \"Be original; don't be scared of being bold!\"\n"
          ]
        }
      ]
    },
    {
      "cell_type": "code",
      "source": [
        "#TIY 2-6\n",
        "famous_name = \"Ed Sheeran\"\n",
        "quote = \"Be original; don't be scared of being bold!\"\n",
        "message = f'{famous_name} once said,\"{quote}\"'\n",
        "print(message)"
      ],
      "metadata": {
        "colab": {
          "base_uri": "https://localhost:8080/"
        },
        "id": "5cROsqDHP5b2",
        "outputId": "a25dee6e-3d26-4bbe-ac49-c3693e8a1204"
      },
      "execution_count": 24,
      "outputs": [
        {
          "output_type": "stream",
          "name": "stdout",
          "text": [
            "Ed Sheeran once said,\"Be original; don't be scared of being bold!\"\n"
          ]
        }
      ]
    },
    {
      "cell_type": "code",
      "source": [
        "#TIY 2-7\n",
        "person_name = \"\\t Lionel Messi \\n\"\n",
        "print(person_name)\n",
        "\n",
        "print(person_name.lstrip())\n",
        "print(person_name.rstrip())\n",
        "print(person_name.strip())"
      ],
      "metadata": {
        "colab": {
          "base_uri": "https://localhost:8080/"
        },
        "id": "bRUpNDwhQUkT",
        "outputId": "3853ebb2-3e8b-49b5-c53b-fd0d01bca007"
      },
      "execution_count": 25,
      "outputs": [
        {
          "output_type": "stream",
          "name": "stdout",
          "text": [
            "\t Lionel Messi \n",
            "\n",
            "Lionel Messi \n",
            "\n",
            "\t Lionel Messi\n",
            "Lionel Messi\n"
          ]
        }
      ]
    },
    {
      "cell_type": "code",
      "source": [
        "#TIY 2-8\n",
        "print (6 + 2)\n",
        "print (10 - 2)\n",
        "print (4 * 2)\n",
        "print(int(24 / 3))"
      ],
      "metadata": {
        "colab": {
          "base_uri": "https://localhost:8080/"
        },
        "id": "yNAqu09ZQzr4",
        "outputId": "530ce778-1f91-4feb-c168-d06512411bca"
      },
      "execution_count": 26,
      "outputs": [
        {
          "output_type": "stream",
          "name": "stdout",
          "text": [
            "8\n",
            "8\n",
            "8\n",
            "8\n"
          ]
        }
      ]
    },
    {
      "cell_type": "code",
      "source": [
        "#TIY 2-9\n",
        "my_favourite_number = 10\n",
        "message = f\"My favourite number is {my_favourite_number}.\"\n",
        "print(message)"
      ],
      "metadata": {
        "colab": {
          "base_uri": "https://localhost:8080/"
        },
        "id": "H4L-gIxpRUNo",
        "outputId": "9331a91d-aada-46bd-fd12-ed38e38a5a4e"
      },
      "execution_count": 27,
      "outputs": [
        {
          "output_type": "stream",
          "name": "stdout",
          "text": [
            "My favourite number is 10.\n"
          ]
        }
      ]
    },
    {
      "cell_type": "code",
      "source": [
        "#TIY 2-10\n",
        "#Program 1\n",
        "#Program written by Krish on 02/14/2024\n",
        "#This program shows arithmetic operations like addition, subtraction, multiplication, and division\n",
        "#This adds the numbers given and prints out 8\n",
        "print(6 + 2)\n",
        "\n",
        "#This subtracts the numbers and prints out 8\n",
        "print(10 - 2)\n",
        "\n",
        "#This multiplies the numbers and prints out 8\n",
        "print(4*2)\n",
        "\n",
        "#This divides the numbers and prints out 8\n",
        "print(int(24/3))"
      ],
      "metadata": {
        "colab": {
          "base_uri": "https://localhost:8080/"
        },
        "id": "kSRvPXLtRutD",
        "outputId": "e5ed757f-7003-491e-c90e-a2bf6f64d907"
      },
      "execution_count": 28,
      "outputs": [
        {
          "output_type": "stream",
          "name": "stdout",
          "text": [
            "8\n",
            "8\n",
            "8\n",
            "8\n"
          ]
        }
      ]
    },
    {
      "cell_type": "code",
      "source": [
        "#TIY 2-10\n",
        "#Program 2\n",
        "#Program written by Krish on 2/14/2024\n",
        "\n",
        "#This program prints out the name of Ed Sheeran\n",
        "\n",
        "#I gave the value Ed Sheeran to the variable called famous_name\n",
        "famous_name = \"Ed Sheeran\"\n",
        "\n",
        "#I wrote the famous quote said by Ed Sheeran with double quotation\n",
        "quote = \"Be original; don't be scared of being bold!\"\n",
        "\n",
        "#This prints out the program that I want, here \"{}\" inside ehre I am writting variables\n",
        "\n",
        "#I used single quotation so that there will not be any errors as the actual quote is supposed to be  in double quotation\n",
        "print(f'{name} once said, \"{quote}\"')\n"
      ],
      "metadata": {
        "colab": {
          "base_uri": "https://localhost:8080/"
        },
        "id": "uex8R0mZSsud",
        "outputId": "c356e46d-c152-4fc0-cdb3-4271ea310484"
      },
      "execution_count": 29,
      "outputs": [
        {
          "output_type": "stream",
          "name": "stdout",
          "text": [
            "Ed Sheeran once said, \"Be original; don't be scared of being bold!\"\n"
          ]
        }
      ]
    },
    {
      "cell_type": "code",
      "source": [
        "#TIY 2-11\n",
        "\n",
        "import this"
      ],
      "metadata": {
        "id": "MXKjQCLCUQ76"
      },
      "execution_count": 30,
      "outputs": []
    },
    {
      "cell_type": "code",
      "source": [],
      "metadata": {
        "id": "oBUq9S3DUNwp"
      },
      "execution_count": 30,
      "outputs": []
    }
  ]
}