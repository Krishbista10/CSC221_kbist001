{
  "nbformat": 4,
  "nbformat_minor": 0,
  "metadata": {
    "colab": {
      "provenance": [],
      "authorship_tag": "ABX9TyOzm++U45Kk7mMi0MuqWGxp",
      "include_colab_link": true
    },
    "kernelspec": {
      "name": "python3",
      "display_name": "Python 3"
    },
    "language_info": {
      "name": "python"
    }
  },
  "cells": [
    {
      "cell_type": "markdown",
      "metadata": {
        "id": "view-in-github",
        "colab_type": "text"
      },
      "source": [
        "<a href=\"https://colab.research.google.com/github/Krishbista10/CSC221_kbist001/blob/main/Quiz3.ipynb\" target=\"_parent\"><img src=\"https://colab.research.google.com/assets/colab-badge.svg\" alt=\"Open In Colab\"/></a>"
      ]
    },
    {
      "cell_type": "code",
      "execution_count": null,
      "metadata": {
        "colab": {
          "base_uri": "https://localhost:8080/"
        },
        "id": "ACcEnY8jwX5s",
        "outputId": "48c0e7ae-8a7f-475c-e214-180a872413ea"
      },
      "outputs": [
        {
          "output_type": "stream",
          "name": "stdout",
          "text": [
            "3.14\n"
          ]
        }
      ],
      "source": [
        "#1).abs()\n",
        "num = -3.14\n",
        "print(abs(num))  # Output: 3.14"
      ]
    },
    {
      "cell_type": "code",
      "source": [
        "#2).all()\n",
        "numbers = [2, 4, 6, 8, 10]\n",
        "print(all(num % 2 == 0 for num in numbers))"
      ],
      "metadata": {
        "colab": {
          "base_uri": "https://localhost:8080/"
        },
        "id": "kU-47wIlw7XP",
        "outputId": "91fe8a59-cc3c-415e-bdb3-eaf8ca888ccf"
      },
      "execution_count": null,
      "outputs": [
        {
          "output_type": "stream",
          "name": "stdout",
          "text": [
            "True\n"
          ]
        }
      ]
    },
    {
      "cell_type": "code",
      "source": [
        "#3).any()\n",
        "bool_list = [True, True, True]\n",
        "print(all(bool_list))\n",
        "\n",
        "string = \"hello\"\n",
        "print(all(char.isalpha() for char in string))\n",
        "\n",
        "numbers = [1, 2, 3, 4, 5]\n",
        "print(all(num > 0 for num in numbers))"
      ],
      "metadata": {
        "colab": {
          "base_uri": "https://localhost:8080/"
        },
        "id": "ZBt1GtM7xSIB",
        "outputId": "1acefd6f-bab1-48ae-ce27-a91aa5b1774d"
      },
      "execution_count": null,
      "outputs": [
        {
          "output_type": "stream",
          "name": "stdout",
          "text": [
            "True\n",
            "True\n",
            "True\n"
          ]
        }
      ]
    },
    {
      "cell_type": "code",
      "source": [
        "#4).len()\n",
        "numbers = [1, 2, 3, 4, 5]\n",
        "print(len(numbers))"
      ],
      "metadata": {
        "colab": {
          "base_uri": "https://localhost:8080/"
        },
        "id": "QukkQV7dxjRt",
        "outputId": "9782a13f-f569-4593-bd98-4c121ef533c9"
      },
      "execution_count": null,
      "outputs": [
        {
          "output_type": "stream",
          "name": "stdout",
          "text": [
            "5\n"
          ]
        }
      ]
    },
    {
      "cell_type": "code",
      "source": [
        "#5). list()\n",
        "my_tuple = (1, 2, 3)\n",
        "my_list = list(my_tuple)\n",
        "print(my_list)"
      ],
      "metadata": {
        "id": "ifnrBqXUyCle",
        "colab": {
          "base_uri": "https://localhost:8080/"
        },
        "outputId": "7036c09a-5c75-43f3-a85b-e004fa6abb10"
      },
      "execution_count": 1,
      "outputs": [
        {
          "output_type": "stream",
          "name": "stdout",
          "text": [
            "[1, 2, 3]\n"
          ]
        }
      ]
    },
    {
      "cell_type": "code",
      "source": [
        "#6 range()\n",
        "for i in range(1, 10, 2):\n",
        "    print(i)"
      ],
      "metadata": {
        "colab": {
          "base_uri": "https://localhost:8080/"
        },
        "id": "O8G2XsT3zBT0",
        "outputId": "bb690075-ef1b-4296-d8c5-7a90e187660f"
      },
      "execution_count": 2,
      "outputs": [
        {
          "output_type": "stream",
          "name": "stdout",
          "text": [
            "1\n",
            "3\n",
            "5\n",
            "7\n",
            "9\n"
          ]
        }
      ]
    },
    {
      "cell_type": "code",
      "source": [
        "#7 reversed()\n",
        "my_list = [1, 2, 3, 4, 5]\n",
        "reversed_list = reversed(my_list)\n",
        "for item in reversed_list:\n",
        "    print(item)"
      ],
      "metadata": {
        "colab": {
          "base_uri": "https://localhost:8080/"
        },
        "id": "km_oEvFkzMQL",
        "outputId": "5d798de8-a0ec-4897-cb79-d4b509aff8dd"
      },
      "execution_count": 3,
      "outputs": [
        {
          "output_type": "stream",
          "name": "stdout",
          "text": [
            "5\n",
            "4\n",
            "3\n",
            "2\n",
            "1\n"
          ]
        }
      ]
    },
    {
      "cell_type": "code",
      "source": [
        "#8 bool()\n",
        "print(bool(0))\n",
        "print(bool(1))\n",
        "print(bool(42))\n"
      ],
      "metadata": {
        "colab": {
          "base_uri": "https://localhost:8080/"
        },
        "id": "l3IEc4iuzbht",
        "outputId": "3dc70cac-e0e3-4d35-a5f0-369545a4083e"
      },
      "execution_count": 4,
      "outputs": [
        {
          "output_type": "stream",
          "name": "stdout",
          "text": [
            "False\n",
            "True\n",
            "True\n"
          ]
        }
      ]
    },
    {
      "cell_type": "code",
      "source": [
        "#9 filter()\n",
        "numbers = [-3, -2, -1, 0, 1, 2, 3]\n",
        "positive_numbers = filter(lambda x: x > 0, numbers)\n",
        "print(list(positive_numbers))"
      ],
      "metadata": {
        "colab": {
          "base_uri": "https://localhost:8080/"
        },
        "id": "be4xXUaxzmrJ",
        "outputId": "b500598b-38b8-42f7-95fa-80a9db214855"
      },
      "execution_count": 5,
      "outputs": [
        {
          "output_type": "stream",
          "name": "stdout",
          "text": [
            "[1, 2, 3]\n"
          ]
        }
      ]
    },
    {
      "cell_type": "code",
      "source": [
        "#10 max()\n",
        "words = [\"apple\", \"banana\", \"kiwi\", \"orange\"]\n",
        "longest_word = max(words, key=len)\n",
        "print(longest_word)"
      ],
      "metadata": {
        "colab": {
          "base_uri": "https://localhost:8080/"
        },
        "id": "JiPp3JUEzxWL",
        "outputId": "1223c107-61dc-47e1-b163-24382e07bf4b"
      },
      "execution_count": 6,
      "outputs": [
        {
          "output_type": "stream",
          "name": "stdout",
          "text": [
            "banana\n"
          ]
        }
      ]
    },
    {
      "cell_type": "code",
      "source": [
        "#11 min()\n",
        "numbers = [5, 10, 3, 8]\n",
        "min_number = min(numbers)\n",
        "print(min_number)\n"
      ],
      "metadata": {
        "colab": {
          "base_uri": "https://localhost:8080/"
        },
        "id": "6dEvfHcYz7v1",
        "outputId": "d853791f-44c5-4b43-df8e-6c20c3cf6adf"
      },
      "execution_count": 7,
      "outputs": [
        {
          "output_type": "stream",
          "name": "stdout",
          "text": [
            "3\n"
          ]
        }
      ]
    },
    {
      "cell_type": "code",
      "source": [
        "#12 slice()\n",
        "my_list = [1, 2, 3, 4, 5]\n",
        "my_slice = slice(1, 4)\n",
        "print(my_list[1:4])\n",
        "print(my_list[my_slice])"
      ],
      "metadata": {
        "colab": {
          "base_uri": "https://localhost:8080/"
        },
        "id": "t03Hunbv0Cc_",
        "outputId": "a1e0b66f-6248-457b-d4e9-1c4478131fc4"
      },
      "execution_count": 8,
      "outputs": [
        {
          "output_type": "stream",
          "name": "stdout",
          "text": [
            "[2, 3, 4]\n",
            "[2, 3, 4]\n"
          ]
        }
      ]
    },
    {
      "cell_type": "code",
      "source": [
        "#13 sorted()\n",
        "my_string = \"hello\"\n",
        "sorted_string = sorted(my_string)\n",
        "print(sorted_string)"
      ],
      "metadata": {
        "colab": {
          "base_uri": "https://localhost:8080/"
        },
        "id": "lwPFf_qB0OSQ",
        "outputId": "9a4b6f2c-7b98-4bb1-ae84-79ca641fe626"
      },
      "execution_count": 9,
      "outputs": [
        {
          "output_type": "stream",
          "name": "stdout",
          "text": [
            "['e', 'h', 'l', 'l', 'o']\n"
          ]
        }
      ]
    },
    {
      "cell_type": "code",
      "source": [
        "#14 sum()\n",
        "my_set = {1, 2, 3, 4, 5}\n",
        "total = sum(my_set)\n",
        "print(total)"
      ],
      "metadata": {
        "colab": {
          "base_uri": "https://localhost:8080/"
        },
        "id": "vcGIsjKG0YW7",
        "outputId": "ab86e045-c8c4-40e9-a895-dbfd017fc5c6"
      },
      "execution_count": 10,
      "outputs": [
        {
          "output_type": "stream",
          "name": "stdout",
          "text": [
            "15\n"
          ]
        }
      ]
    },
    {
      "cell_type": "code",
      "source": [
        "#15 dict()\n",
        "pairs = [('a', 1), ('b', 2), ('c', 3)]\n",
        "my_dict = dict(pairs)\n",
        "print(my_dict)"
      ],
      "metadata": {
        "colab": {
          "base_uri": "https://localhost:8080/"
        },
        "id": "N5Cf8V6D0h3R",
        "outputId": "f3153ed1-1042-4caa-878d-de01a0760e8b"
      },
      "execution_count": 11,
      "outputs": [
        {
          "output_type": "stream",
          "name": "stdout",
          "text": [
            "{'a': 1, 'b': 2, 'c': 3}\n"
          ]
        }
      ]
    },
    {
      "cell_type": "code",
      "source": [
        "#16 input()\n",
        "name = input(\"Enter your name: \")\n",
        "print(\"Hello,\", name)"
      ],
      "metadata": {
        "colab": {
          "base_uri": "https://localhost:8080/"
        },
        "id": "7ijRawa80s0M",
        "outputId": "f48eeee4-9e62-488d-8ca3-383c7201f2fe"
      },
      "execution_count": 12,
      "outputs": [
        {
          "output_type": "stream",
          "name": "stdout",
          "text": [
            "Enter your name: uii\n",
            "Hello, uii\n"
          ]
        }
      ]
    },
    {
      "cell_type": "code",
      "source": [
        "#17 type()\n",
        "my_list = [1, 2, 3]\n",
        "print(type(my_list))"
      ],
      "metadata": {
        "colab": {
          "base_uri": "https://localhost:8080/"
        },
        "id": "tF5czhvm01ah",
        "outputId": "5818ca65-e68e-4ec4-99d0-786e8f86fd4f"
      },
      "execution_count": 13,
      "outputs": [
        {
          "output_type": "stream",
          "name": "stdout",
          "text": [
            "<class 'list'>\n"
          ]
        }
      ]
    },
    {
      "cell_type": "code",
      "source": [
        "#18 print()\n",
        "print(\"Hello, world!\")\n"
      ],
      "metadata": {
        "colab": {
          "base_uri": "https://localhost:8080/"
        },
        "id": "dJDcWXtf1AHZ",
        "outputId": "fbcfa2c2-43ce-4d72-f49c-433776c0d29b"
      },
      "execution_count": 14,
      "outputs": [
        {
          "output_type": "stream",
          "name": "stdout",
          "text": [
            "Hello, world!\n"
          ]
        }
      ]
    },
    {
      "cell_type": "code",
      "source": [
        "#19 help()\n",
        "help(print)\n"
      ],
      "metadata": {
        "colab": {
          "base_uri": "https://localhost:8080/"
        },
        "id": "gGPGH4Zy1JqR",
        "outputId": "b4a97320-f602-4468-9d57-a3cb1f03d858"
      },
      "execution_count": 15,
      "outputs": [
        {
          "output_type": "stream",
          "name": "stdout",
          "text": [
            "Help on built-in function print in module builtins:\n",
            "\n",
            "print(...)\n",
            "    print(value, ..., sep=' ', end='\\n', file=sys.stdout, flush=False)\n",
            "    \n",
            "    Prints the values to a stream, or to sys.stdout by default.\n",
            "    Optional keyword arguments:\n",
            "    file:  a file-like object (stream); defaults to the current sys.stdout.\n",
            "    sep:   string inserted between values, default a space.\n",
            "    end:   string appended after the last value, default a newline.\n",
            "    flush: whether to forcibly flush the stream.\n",
            "\n"
          ]
        }
      ]
    },
    {
      "cell_type": "code",
      "source": [
        "#20 round()\n",
        "z = 4.9\n",
        "rounded_z = round(z)\n",
        "print(rounded_z)"
      ],
      "metadata": {
        "colab": {
          "base_uri": "https://localhost:8080/"
        },
        "id": "2tns2XxD1RRS",
        "outputId": "dd5fa9d1-0bae-44e9-dc6b-d98019b9c0f6"
      },
      "execution_count": 18,
      "outputs": [
        {
          "output_type": "stream",
          "name": "stdout",
          "text": [
            "5\n"
          ]
        }
      ]
    },
    {
      "cell_type": "code",
      "source": [],
      "metadata": {
        "id": "MKy0OFf51p5K"
      },
      "execution_count": null,
      "outputs": []
    }
  ]
}