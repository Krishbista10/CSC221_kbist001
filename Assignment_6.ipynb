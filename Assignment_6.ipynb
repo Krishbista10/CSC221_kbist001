{
  "nbformat": 4,
  "nbformat_minor": 0,
  "metadata": {
    "colab": {
      "provenance": [],
      "authorship_tag": "ABX9TyMb1m8xX7XLN0xnLlULvVS8",
      "include_colab_link": true
    },
    "kernelspec": {
      "name": "python3",
      "display_name": "Python 3"
    },
    "language_info": {
      "name": "python"
    }
  },
  "cells": [
    {
      "cell_type": "markdown",
      "metadata": {
        "id": "view-in-github",
        "colab_type": "text"
      },
      "source": [
        "<a href=\"https://colab.research.google.com/github/Krishbista10/CSC221_kbist001/blob/main/Assignment_6.ipynb\" target=\"_parent\"><img src=\"https://colab.research.google.com/assets/colab-badge.svg\" alt=\"Open In Colab\"/></a>"
      ]
    },
    {
      "cell_type": "code",
      "execution_count": 3,
      "metadata": {
        "colab": {
          "base_uri": "https://localhost:8080/"
        },
        "id": "spICkHYfqkMD",
        "outputId": "a2525bbe-fc03-4b7e-8627-2749a43e4c6a"
      },
      "outputs": [
        {
          "output_type": "stream",
          "name": "stdout",
          "text": [
            "Is vehicle == 'motorcycle'? I predict True.\n",
            "True\n",
            "\n",
            "Is vehicle == 'car'? I predict False.\n",
            "False\n",
            "\n",
            "Is vehicle != 'truck'? I predict True.\n",
            "True\n",
            "\n",
            "Is vehicle.upper() == 'motorcycle'? I predict True.\n",
            "False\n",
            "\n",
            "Is len(vehicle) == 10? I predict True.\n",
            "True\n",
            "\n",
            "Is vehicle.startswith('m')? I predict True.\n",
            "True\n",
            "\n",
            "Is vehicle.endswith('e')? I predict True.\n",
            "True\n",
            "\n",
            "Is 'cycle' in vehicle? I predict True.\n",
            "True\n",
            "\n",
            "Is 'boat' not in vehicle? I predict True.\n",
            "True\n",
            "\n",
            "Is vehicle.isalpha()? I predict False.\n",
            "True\n"
          ]
        }
      ],
      "source": [
        "#TIY 5-1\n",
        "vehicle = 'motorcycle'\n",
        "\n",
        "# Test 1: Is vehicle == 'motorcycle'? I predict True.\n",
        "print(\"Is vehicle == 'motorcycle'? I predict True.\")\n",
        "print(vehicle == 'motorcycle')\n",
        "\n",
        "# Test 2: Is vehicle == 'car'? I predict False.\n",
        "print(\"\\nIs vehicle == 'car'? I predict False.\")\n",
        "print(vehicle == 'car')\n",
        "\n",
        "# Test 3: Is vehicle != 'truck'? I predict True.\n",
        "print(\"\\nIs vehicle != 'truck'? I predict True.\")\n",
        "print(vehicle != 'truck')\n",
        "\n",
        "# Test 4: Is vehicle.lower() == 'motorcycle'? I predict True.\n",
        "print(\"\\nIs vehicle.lower() == 'motorcycle'? I predict True.\")\n",
        "print(vehicle.lower() == 'motorcycle')\n",
        "\n",
        "# Test 5: Is len(vehicle) == 10? I predict True.\n",
        "print(\"\\nIs len(vehicle) == 10? I predict True.\")\n",
        "print(len(vehicle) == 10)\n",
        "\n",
        "# Test 6: Is vehicle.startswith('m')? I predict True.\n",
        "print(\"\\nIs vehicle.startswith('m')? I predict True.\")\n",
        "print(vehicle.startswith('m'))\n",
        "\n",
        "# Test 7: Is vehicle.endswith('e')? I predict True.\n",
        "print(\"\\nIs vehicle.endswith('e')? I predict True.\")\n",
        "print(vehicle.endswith('e'))\n",
        "\n",
        "# Test 8: Is 'cycle' in vehicle? I predict True.\n",
        "print(\"\\nIs 'cycle' in vehicle? I predict True.\")\n",
        "print('cycle' in vehicle)\n",
        "\n",
        "# Test 9: Is 'boat' not in vehicle? I predict True.\n",
        "print(\"\\nIs 'boat' not in vehicle? I predict True.\")\n",
        "print('boat' not in vehicle)\n",
        "\n",
        "# Test 10: Is vehicle.isalpha()? I predict False.\n",
        "print(\"\\nIs vehicle.isalpha()? I predict False.\")\n",
        "print(vehicle.isalpha())\n"
      ]
    },
    {
      "cell_type": "code",
      "source": [
        "#TIY 5-2\n",
        "\n",
        "# Tests for equality and inequality with strings\n",
        "string1 = 'greetings'\n",
        "string2 = 'GREETINGS'\n",
        "\n",
        "# Test 1:\n",
        "print(\"Is string1 == string2? I predict False.\")\n",
        "print(string1 == string2)\n",
        "\n",
        "# Test 2:\n",
        "print(\"\\nIs string1 != string2? I predict True.\")\n",
        "print(string1 != string2)\n",
        "\n",
        "# Tests using the lower() method\n",
        "# Test 3:\n",
        "print(\"\\nIs string1.lower() == string2.lower()? I predict True.\")\n",
        "print(string1.lower() == string2.lower())\n",
        "\n",
        "# Numerical tests involving equality and inequality, greater than and less than, greater than or equal to, and less than or equal to\n",
        "num1 = 25\n",
        "num2 = 15\n",
        "\n",
        "# Test 4:\n",
        "print(\"\\nIs num1 > num2? I predict True.\")\n",
        "print(num1 > num2)\n",
        "\n",
        "# Test 5:\n",
        "print(\"\\nIs num1 < num2? I predict False.\")\n",
        "print(num1 < num2)\n",
        "\n",
        "# Test 6:\n",
        "print(\"\\nIs num1 >= num2? I predict True.\")\n",
        "print(num1 >= num2)\n",
        "\n",
        "# Test 7:\n",
        "print(\"\\nIs num1 <= num2? I predict False.\")\n",
        "print(num1 <= num2)\n",
        "\n",
        "# Tests using the and keyword and the or keyword\n",
        "value1 = 35\n",
        "value2 = 45\n",
        "value3 = 55\n",
        "\n",
        "# Test 8:\n",
        "print(\"\\nIs value1 < value2 and value2 < value3? I predict True.\")\n",
        "print(value1 < value2 and value2 < value3)\n",
        "\n",
        "# Test 9:\n",
        "print(\"\\nIs value1 > value2 or value2 < value3? I predict True.\")\n",
        "print(value1 > value2 or value2 < value3)\n",
        "\n",
        "# Testing whether an item is in a list\n",
        "my_list = ['apple', 'banana', 'orange', 'grape', 'kiwi']\n",
        "\n",
        "# Test 10:\n",
        "print(\"\\nIs 'orange' in my_list? I predict True.\")\n",
        "print('orange' in my_list)\n",
        "\n",
        "# Testing whether an item is not in a list\n",
        "# Test 11:\n",
        "print(\"\\nIs 'pear' not in my_list? I predict False.\")\n",
        "print('pear' not in my_list)\n"
      ],
      "metadata": {
        "colab": {
          "base_uri": "https://localhost:8080/"
        },
        "id": "PRyH2Ww6tc_U",
        "outputId": "5673511d-b16a-4a90-b498-3071b238e8e5"
      },
      "execution_count": 6,
      "outputs": [
        {
          "output_type": "stream",
          "name": "stdout",
          "text": [
            "Is string1 == string2? I predict False.\n",
            "False\n",
            "\n",
            "Is string1 != string2? I predict True.\n",
            "True\n",
            "\n",
            "Is string1.lower() == string2.lower()? I predict True.\n",
            "True\n",
            "\n",
            "Is num1 > num2? I predict True.\n",
            "True\n",
            "\n",
            "Is num1 < num2? I predict False.\n",
            "False\n",
            "\n",
            "Is num1 >= num2? I predict True.\n",
            "True\n",
            "\n",
            "Is num1 <= num2? I predict False.\n",
            "False\n",
            "\n",
            "Is value1 < value2 and value2 < value3? I predict True.\n",
            "True\n",
            "\n",
            "Is value1 > value2 or value2 < value3? I predict True.\n",
            "True\n",
            "\n",
            "Is 'orange' in my_list? I predict True.\n",
            "True\n",
            "\n",
            "Is 'pear' not in my_list? I predict False.\n",
            "True\n"
          ]
        }
      ]
    },
    {
      "cell_type": "code",
      "source": [
        "#TIY 5-3\n",
        "#Part 1\n",
        "\n",
        "# Alien Colors #1\n",
        "alien_color = 'green'\n",
        "\n",
        "if alien_color == 'green':\n",
        "    print(\"Congratulations! You just earned 5 points.\")"
      ],
      "metadata": {
        "colab": {
          "base_uri": "https://localhost:8080/"
        },
        "id": "09pjiMt7t9QF",
        "outputId": "02d23fde-9769-48ad-c5c9-6d65e7d95da0"
      },
      "execution_count": 5,
      "outputs": [
        {
          "output_type": "stream",
          "name": "stdout",
          "text": [
            "Congratulations! You just earned 5 points.\n"
          ]
        }
      ]
    },
    {
      "cell_type": "code",
      "source": [
        "#Part 2\n",
        "# Alien Colors #1\n",
        "alien_color = 'red'  # Not green\n",
        "if alien_color == 'green':\n",
        "    # Print a message that the player earned 5 points\n",
        "    print(\"Congratulations! You just earned 5 points.\")"
      ],
      "metadata": {
        "id": "vowIgF5tutUa"
      },
      "execution_count": 8,
      "outputs": []
    },
    {
      "cell_type": "code",
      "source": [
        "#TIY 5-6\n",
        "age = 25\n",
        "\n",
        "if age < 2:\n",
        "    print(\"The person is a baby.\")\n",
        "elif age < 4:\n",
        "    print(\"The person is a toddler.\")\n",
        "elif age < 13:\n",
        "    print(\"The person is a kid.\")\n",
        "elif age < 20:\n",
        "    print(\"The person is a teenager.\")\n",
        "elif age < 65:\n",
        "    print(\"The person is an adult.\")\n",
        "else:\n",
        "    print(\"The person is an elder.\")\n"
      ],
      "metadata": {
        "colab": {
          "base_uri": "https://localhost:8080/"
        },
        "id": "LUW0rOHivCsU",
        "outputId": "2e4c9878-2adc-4e1c-fb57-7bf1156a3898"
      },
      "execution_count": 9,
      "outputs": [
        {
          "output_type": "stream",
          "name": "stdout",
          "text": [
            "The person is an adult.\n"
          ]
        }
      ]
    },
    {
      "cell_type": "code",
      "source": [
        "#TIY 5-12\n",
        "#I just reviewed the programs that I wrote and styled these conditional tests appropriately."
      ],
      "metadata": {
        "id": "-7ZkUWPZvKeJ"
      },
      "execution_count": null,
      "outputs": []
    },
    {
      "cell_type": "code",
      "source": [
        "#TIY 5-13\n",
        "# I am creating a program which helps to find the gpa.\n",
        " #flow chart\n",
        " # Start\n",
        "# Input score\n",
        "# If score >= 90, print \"Grade: A\"\n",
        "# Elif score >= 80, print \"Grade: B\"\n",
        "# Elif score >= 70, print \"Grade: C\"\n",
        "# Elif score >= 60, print \"Grade: D\"\n",
        "# Else, print \"Grade: F\"\n",
        "# End\n",
        "\n",
        "\n",
        "#Pseudocode\n",
        "# Prompt user to input score\n",
        "# Read input as score\n",
        "# If score >= 90:\n",
        "#     Print \"Grade: A\"\n",
        "# Elif score >= 80:\n",
        "#     Print \"Grade: B\"\n",
        "# Elif score >= 70:\n",
        "#     Print \"Grade: C\"\n",
        "# Elif score >= 60:\n",
        "#     Print \"Grade: D\"\n",
        "# Else:\n",
        "#     Print \"Grade: F\"\n",
        "\n",
        "\n",
        "#code\n",
        "# Prompt user to input score\n",
        "score = float(input(\"Enter your score: \"))\n",
        "\n",
        "# Determine grade based on score\n",
        "if score >= 90:\n",
        "    print(\"Grade: A\")\n",
        "elif score >= 80:\n",
        "    print(\"Grade: B\")\n",
        "elif score >= 70:\n",
        "    print(\"Grade: C\")\n",
        "elif score >= 60:\n",
        "    print(\"Grade: D\")\n",
        "else:\n",
        "    print(\"Grade: F\")\n"
      ],
      "metadata": {
        "colab": {
          "base_uri": "https://localhost:8080/"
        },
        "id": "382g_CnivcgN",
        "outputId": "89b0cb1e-2f7e-4282-dc3e-170765f35af4"
      },
      "execution_count": 10,
      "outputs": [
        {
          "output_type": "stream",
          "name": "stdout",
          "text": [
            "Enter your score: 70\n",
            "Grade: C\n"
          ]
        }
      ]
    }
  ]
}