{
  "nbformat": 4,
  "nbformat_minor": 0,
  "metadata": {
    "colab": {
      "provenance": [],
      "authorship_tag": "ABX9TyMBzQqVsjGovAEab4jqCrB9",
      "include_colab_link": true
    },
    "kernelspec": {
      "name": "python3",
      "display_name": "Python 3"
    },
    "language_info": {
      "name": "python"
    }
  },
  "cells": [
    {
      "cell_type": "markdown",
      "metadata": {
        "id": "view-in-github",
        "colab_type": "text"
      },
      "source": [
        "<a href=\"https://colab.research.google.com/github/Krishbista10/CSC221_kbist001/blob/main/Assignment8ipynb.ipynb\" target=\"_parent\"><img src=\"https://colab.research.google.com/assets/colab-badge.svg\" alt=\"Open In Colab\"/></a>"
      ]
    },
    {
      "cell_type": "code",
      "execution_count": 1,
      "metadata": {
        "colab": {
          "base_uri": "https://localhost:8080/"
        },
        "id": "-7qW53saegfC",
        "outputId": "190d3d3e-d31f-48c2-f48b-956494da87ed"
      },
      "outputs": [
        {
          "output_type": "stream",
          "name": "stdout",
          "text": [
            "One of my favorite books is To Kill a Mockingbird.\n"
          ]
        }
      ],
      "source": [
        "#TIY 8-2\n",
        "def favorite_book(title):\n",
        "    print(f\"One of my favorite books is {title}.\")\n",
        "\n",
        "\n",
        "favorite_book(\"To Kill a Mockingbird\")\n",
        "\n"
      ]
    },
    {
      "cell_type": "code",
      "source": [
        "#TIY 8-3\n",
        "def make_shirt(size, message):\n",
        "    print(f\"\\nA {size} sized shirt will be printed with the message: {message}\")\n",
        "\n",
        "# Call the function once using positional arguments\n",
        "make_shirt(\"medium\", \"Hello, World!\")\n",
        "\n",
        "# Call the function a second time using keyword arguments\n",
        "make_shirt(size=\"large\", message=\"Python Rocks!\")\n"
      ],
      "metadata": {
        "colab": {
          "base_uri": "https://localhost:8080/"
        },
        "id": "CYZqE65cfQt1",
        "outputId": "ab797bca-d2a2-4190-e81f-20f860d06f37"
      },
      "execution_count": 4,
      "outputs": [
        {
          "output_type": "stream",
          "name": "stdout",
          "text": [
            "\n",
            "A medium sized shirt will be printed with the message: Hello, World!\n",
            "\n",
            "A large sized shirt will be printed with the message: Python Rocks!\n"
          ]
        }
      ]
    },
    {
      "cell_type": "code",
      "source": [
        "#TIY 8-4\n",
        "def make_shirt(size=\"large\", message = \"I love Python\"):\n",
        "    print(f\"\\nA {size} sized shirt will be printed with the message: {message}\")\n",
        "\n",
        "# Make a large shirt with the default message\n",
        "make_shirt()\n",
        "\n",
        "# Make a medium shirt with the default message\n",
        "make_shirt(size=\"medium\")\n",
        "\n",
        "# Make a shirt of any size with a different message\n",
        "make_shirt(size=\"small\", message=\"Keep Calm and Code On\")\n"
      ],
      "metadata": {
        "colab": {
          "base_uri": "https://localhost:8080/"
        },
        "id": "GWdbz0HAfZ9Q",
        "outputId": "1f8a3fb9-3057-47e8-f912-b108efbc980e"
      },
      "execution_count": 8,
      "outputs": [
        {
          "output_type": "stream",
          "name": "stdout",
          "text": [
            "\n",
            "A large sized shirt will be printed with the message: I love Python\n",
            "\n",
            "A medium sized shirt will be printed with the message: I love Python\n",
            "\n",
            "A small sized shirt will be printed with the message: Keep Calm and Code On\n"
          ]
        }
      ]
    },
    {
      "cell_type": "code",
      "source": [
        "#pseudocode\n",
        "#function func8(a, b, c=42):\n",
        "# sum = a + b + c\n",
        "# product = a * b * c\n",
        "# sorted_numbers = sort([a, b, c])\n",
        "# return sum, product, sorted_numbers\n",
        "\n",
        "#maincode\n",
        "\n",
        "def func8(a, b, c=42):\n",
        "    numbers = [a, b, c]\n",
        "    numbers.sort()\n",
        "    sum_result = sum(numbers)\n",
        "    product_result = 1\n",
        "    for num in numbers:\n",
        "        product_result *= num\n",
        "    return sum_result, product_result, numbers\n",
        "\n",
        "# Testing the function with various test cases\n",
        "\n",
        "# Test case 1: 2 arguments\n",
        "print(func8(3, 5))\n",
        "\n",
        "# Test case 2: 3 arguments\n",
        "print(func8(3, 5, 7))\n",
        "\n",
        "# Test case 3: 2 arguments with negative numbers\n",
        "print(func8(-3, -5))\n",
        "\n",
        "# Test case 4: 3 arguments with negative numbers\n",
        "print(func8(-3, -5, -7))\n",
        "\n",
        "# Test case 5: 2 arguments with one of them as zero\n",
        "print(func8(0, 5))\n",
        "\n",
        "# Test case 6: 3 arguments with one of them as zero\n",
        "print(func8(0, 5, 7))"
      ],
      "metadata": {
        "colab": {
          "base_uri": "https://localhost:8080/"
        },
        "id": "3gMmPCpMfsAl",
        "outputId": "63f82f58-6cae-4a94-ea28-803a8ebb32fb"
      },
      "execution_count": 11,
      "outputs": [
        {
          "output_type": "stream",
          "name": "stdout",
          "text": [
            "(50, 630, [3, 5, 42])\n",
            "(15, 105, [3, 5, 7])\n",
            "(34, 630, [-5, -3, 42])\n",
            "(-15, -105, [-7, -5, -3])\n",
            "(47, 0, [0, 5, 42])\n",
            "(12, 0, [0, 5, 7])\n"
          ]
        }
      ]
    },
    {
      "cell_type": "code",
      "source": [],
      "metadata": {
        "id": "tFKVUW5-gPcz"
      },
      "execution_count": null,
      "outputs": []
    }
  ]
}