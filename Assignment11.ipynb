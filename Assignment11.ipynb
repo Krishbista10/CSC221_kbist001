{
  "nbformat": 4,
  "nbformat_minor": 0,
  "metadata": {
    "colab": {
      "provenance": [],
      "authorship_tag": "ABX9TyNAYQbuzA8ZmeHz3tTNUinY",
      "include_colab_link": true
    },
    "kernelspec": {
      "name": "python3",
      "display_name": "Python 3"
    },
    "language_info": {
      "name": "python"
    }
  },
  "cells": [
    {
      "cell_type": "markdown",
      "metadata": {
        "id": "view-in-github",
        "colab_type": "text"
      },
      "source": [
        "<a href=\"https://colab.research.google.com/github/Krishbista10/CSC221_kbist001/blob/main/Assignment11.ipynb\" target=\"_parent\"><img src=\"https://colab.research.google.com/assets/colab-badge.svg\" alt=\"Open In Colab\"/></a>"
      ]
    },
    {
      "cell_type": "markdown",
      "source": [
        "Example code in the text involving dogs and cars"
      ],
      "metadata": {
        "id": "SIMTtU7UdJ5R"
      }
    },
    {
      "cell_type": "code",
      "source": [
        "#1\n",
        "class Dog:\n",
        "    \"\"\"A simple attempt to model a dog.\"\"\"\n",
        "\n",
        "    def __init__(self, name, age):\n",
        "        \"\"\"Initialize name and age attributes.\"\"\"\n",
        "        self.name = name\n",
        "        self.age = age\n",
        "\n",
        "    def sit(self):\n",
        "        \"\"\"Simulate a dog sitting in response to a command.\"\"\"\n",
        "        print(f\"{self.name} is now sitting.\")\n",
        "\n",
        "    def roll_over(self):\n",
        "        \"\"\"Simulate rolling over in response to a command.\"\"\"\n",
        "        print(f\"{self.name} rolled over!\")\n",
        "\n",
        "\n",
        "\n"
      ],
      "metadata": {
        "id": "K-8B6UEYY-Js"
      },
      "execution_count": 39,
      "outputs": []
    },
    {
      "cell_type": "code",
      "source": [
        "#2\n",
        "class Dog:\n",
        "    \"\"\"A simple attempt to model a dog.\"\"\"\n",
        "\n",
        "    def __init__(self, name, age):\n",
        "        \"\"\"Initialize name and age attributes.\"\"\"\n",
        "        self.name = name\n",
        "        self.age = age\n",
        "\n",
        "my_dog = Dog('Willie', 6)\n",
        "print(f\"My dog's name is {my_dog.name}.\")\n",
        "print(f\"My dog is {my_dog.age} years old.\")\n"
      ],
      "metadata": {
        "colab": {
          "base_uri": "https://localhost:8080/"
        },
        "id": "i13LLoZlh7rG",
        "outputId": "89f63d4f-2a97-4002-8ded-1be57940f4f1"
      },
      "execution_count": 40,
      "outputs": [
        {
          "output_type": "stream",
          "name": "stdout",
          "text": [
            "My dog's name is Willie.\n",
            "My dog is 6 years old.\n"
          ]
        }
      ]
    },
    {
      "cell_type": "code",
      "source": [
        "#3\n",
        "class Dog:\n",
        "    \"\"\"A simple attempt to model a dog.\"\"\"\n",
        "\n",
        "    def __init__(self, name, age):\n",
        "        \"\"\"Initialize name and age attributes.\"\"\"\n",
        "        self.name = name\n",
        "        self.age = age\n",
        "\n",
        "    def sit(self):\n",
        "        \"\"\"Simulate a dog sitting in response to a command.\"\"\"\n",
        "        print(f\"{self.name} is now sitting.\")\n",
        "\n",
        "    def roll_over(self):\n",
        "        \"\"\"Simulate rolling over in response to a command.\"\"\"\n",
        "        print(f\"{self.name} rolled over!\")\n",
        "\n",
        "my_dog = Dog('Willie', 6)\n",
        "my_dog.sit()\n",
        "my_dog.roll_over()\n"
      ],
      "metadata": {
        "colab": {
          "base_uri": "https://localhost:8080/"
        },
        "id": "nokjnaFniQAk",
        "outputId": "b78b8f18-ef11-4c10-944b-c7af2378bb0d"
      },
      "execution_count": 41,
      "outputs": [
        {
          "output_type": "stream",
          "name": "stdout",
          "text": [
            "Willie is now sitting.\n",
            "Willie rolled over!\n"
          ]
        }
      ]
    },
    {
      "cell_type": "code",
      "source": [
        "#4\n",
        "class Dog:\n",
        "    \"\"\"A simple attempt to model a dog.\"\"\"\n",
        "\n",
        "    def __init__(self, name, age):\n",
        "        \"\"\"Initialize name and age attributes.\"\"\"\n",
        "        self.name = name\n",
        "        self.age = age\n",
        "\n",
        "    def sit(self):\n",
        "        \"\"\"Simulate a dog sitting in response to a command.\"\"\"\n",
        "        print(f\"{self.name} is now sitting.\")\n",
        "\n",
        "    def roll_over(self):\n",
        "        \"\"\"Simulate rolling over in response to a command.\"\"\"\n",
        "        print(f\"{self.name} rolled over!\")\n",
        "\n",
        "# Instantiating two instances of the Dog class\n",
        "my_dog = Dog('Willie', 6)\n",
        "your_dog = Dog('Lucy', 3)\n",
        "\n",
        "# Printing information about the first dog\n",
        "print(f\"My dog's name is {my_dog.name}.\")\n",
        "print(f\"My dog is {my_dog.age} years old.\")\n",
        "my_dog.sit()\n",
        "\n",
        "# Printing information about the second dog\n",
        "print(f\"\\nYour dog's name is {your_dog.name}.\")\n",
        "print(f\"Your dog is {your_dog.age} years old.\")\n",
        "your_dog.sit()\n"
      ],
      "metadata": {
        "colab": {
          "base_uri": "https://localhost:8080/"
        },
        "id": "8xGSeG8_ia8W",
        "outputId": "ee771ed6-49fe-4f34-fe3d-e7e290314d29"
      },
      "execution_count": 42,
      "outputs": [
        {
          "output_type": "stream",
          "name": "stdout",
          "text": [
            "My dog's name is Willie.\n",
            "My dog is 6 years old.\n",
            "Willie is now sitting.\n",
            "\n",
            "Your dog's name is Lucy.\n",
            "Your dog is 3 years old.\n",
            "Lucy is now sitting.\n"
          ]
        }
      ]
    },
    {
      "cell_type": "code",
      "source": [
        "#5\n",
        "class Car:\n",
        "    \"\"\"A simple attempt to represent a car.\"\"\"\n",
        "\n",
        "    def __init__(self, make, model, year):\n",
        "        \"\"\"Initialize attributes to describe a car.\"\"\"\n",
        "        self.make = make\n",
        "        self.model = model\n",
        "        self.year = year\n",
        "\n",
        "    def get_descriptive_name(self):\n",
        "        \"\"\"Return a neatly formatted descriptive name.\"\"\"\n",
        "        long_name = f\"{self.year} {self.make} {self.model}\"\n",
        "        return long_name.title()\n",
        "\n",
        "# Creating an instance of the Car class\n",
        "my_new_car = Car('audi', 'a4', 2024)\n",
        "\n",
        "# Printing the descriptive name of the car\n",
        "print(my_new_car.get_descriptive_name())\n"
      ],
      "metadata": {
        "colab": {
          "base_uri": "https://localhost:8080/"
        },
        "id": "aVwJZ1yAipUx",
        "outputId": "4f2232a3-a134-480d-c229-d3bc9616c371"
      },
      "execution_count": 43,
      "outputs": [
        {
          "output_type": "stream",
          "name": "stdout",
          "text": [
            "2024 Audi A4\n"
          ]
        }
      ]
    },
    {
      "cell_type": "code",
      "source": [
        "#6\n",
        "class Car:\n",
        "    def __init__(self, make, model, year):\n",
        "        \"\"\"Initialize attributes to describe a car.\"\"\"\n",
        "        self.make = make\n",
        "        self.model = model\n",
        "        self.year = year\n",
        "        self.odometer_reading = 0\n",
        "\n",
        "    def get_descriptive_name(self):\n",
        "        \"\"\"Return a neatly formatted descriptive name.\"\"\"\n",
        "        long_name = f\"{self.year} {self.make} {self.model}\"\n",
        "        return long_name.title()\n",
        "\n",
        "    def read_odometer(self):\n",
        "        \"\"\"Print a statement showing the car's mileage.\"\"\"\n",
        "        print(f\"This car has {self.odometer_reading} miles on it.\")\n",
        "\n",
        "# Creating an instance of the Car class\n",
        "my_new_car = Car('audi', 'a4', 2024)\n",
        "\n",
        "# Printing the descriptive name of the car\n",
        "print(my_new_car.get_descriptive_name())\n",
        "\n",
        "# Reading the odometer of the car\n",
        "my_new_car.read_odometer()\n"
      ],
      "metadata": {
        "colab": {
          "base_uri": "https://localhost:8080/"
        },
        "id": "ch2nn2VDjhGR",
        "outputId": "9889da5d-45bf-4fb9-cd7f-ee102306c821"
      },
      "execution_count": 44,
      "outputs": [
        {
          "output_type": "stream",
          "name": "stdout",
          "text": [
            "2024 Audi A4\n",
            "This car has 0 miles on it.\n"
          ]
        }
      ]
    },
    {
      "cell_type": "code",
      "source": [
        "#7\n",
        "class Car:\n",
        "    def __init__(self, make, model, year):\n",
        "        \"\"\"Initialize attributes to describe a car.\"\"\"\n",
        "        self.make = make\n",
        "        self.model = model\n",
        "        self.year = year\n",
        "        self.odometer_reading = 0\n",
        "\n",
        "    def get_descriptive_name(self):\n",
        "        \"\"\"Return a neatly formatted descriptive name.\"\"\"\n",
        "        long_name = f\"{self.year} {self.make} {self.model}\"\n",
        "        return long_name.title()\n",
        "\n",
        "    def read_odometer(self):\n",
        "        \"\"\"Print a statement showing the car's mileage.\"\"\"\n",
        "        print(f\"This car has {self.odometer_reading} miles on it.\")\n",
        "\n",
        "# Creating an instance of the Car class\n",
        "my_new_car = Car('audi', 'a4', 2024)\n",
        "\n",
        "# Printing the descriptive name of the car\n",
        "print(my_new_car.get_descriptive_name())\n",
        "\n",
        "# Modifying the odometer reading directly\n",
        "my_new_car.odometer_reading = 23\n",
        "\n",
        "# Reading the odometer of the car\n",
        "my_new_car.read_odometer()\n"
      ],
      "metadata": {
        "colab": {
          "base_uri": "https://localhost:8080/"
        },
        "id": "46FtDETrjsK2",
        "outputId": "2064818a-cb52-4236-a0fd-a08ceb7ecf63"
      },
      "execution_count": 45,
      "outputs": [
        {
          "output_type": "stream",
          "name": "stdout",
          "text": [
            "2024 Audi A4\n",
            "This car has 23 miles on it.\n"
          ]
        }
      ]
    },
    {
      "cell_type": "code",
      "source": [
        "#8\n",
        "class Car:\n",
        "    def __init__(self, make, model, year):\n",
        "        \"\"\"Initialize attributes to describe a car.\"\"\"\n",
        "        self.make = make\n",
        "        self.model = model\n",
        "        self.year = year\n",
        "        self.odometer_reading = 0\n",
        "\n",
        "    def get_descriptive_name(self):\n",
        "        \"\"\"Return a neatly formatted descriptive name.\"\"\"\n",
        "        long_name = f\"{self.year} {self.make} {self.model}\"\n",
        "        return long_name.title()\n",
        "\n",
        "    def read_odometer(self):\n",
        "        \"\"\"Print a statement showing the car's mileage.\"\"\"\n",
        "        print(f\"This car has {self.odometer_reading} miles on it.\")\n",
        "\n",
        "    def update_odometer(self, mileage):\n",
        "        \"\"\"Set the odometer reading to the given value.\"\"\"\n",
        "        self.odometer_reading = mileage\n",
        "\n",
        "# Creating an instance of the Car class\n",
        "my_new_car = Car('audi', 'a4', 2024)\n",
        "\n",
        "# Printing the descriptive name of the car\n",
        "print(my_new_car.get_descriptive_name())\n",
        "\n",
        "# Updating the odometer reading using the update_odometer() method\n",
        "my_new_car.update_odometer(23)\n",
        "\n",
        "# Reading the updated odometer of the car\n",
        "my_new_car.read_odometer()\n"
      ],
      "metadata": {
        "colab": {
          "base_uri": "https://localhost:8080/"
        },
        "id": "V76vJJpEj3Ip",
        "outputId": "98c4f964-d5d5-4040-bc79-81056b9fc8df"
      },
      "execution_count": 46,
      "outputs": [
        {
          "output_type": "stream",
          "name": "stdout",
          "text": [
            "2024 Audi A4\n",
            "This car has 23 miles on it.\n"
          ]
        }
      ]
    },
    {
      "cell_type": "code",
      "source": [
        "#9\n",
        "class Car:\n",
        "    def __init__(self, make, model, year):\n",
        "        \"\"\"Initialize attributes to describe a car.\"\"\"\n",
        "        self.make = make\n",
        "        self.model = model\n",
        "        self.year = year\n",
        "        self.odometer_reading = 0\n",
        "\n",
        "    def get_descriptive_name(self):\n",
        "        \"\"\"Return a neatly formatted descriptive name.\"\"\"\n",
        "        long_name = f\"{self.year} {self.make} {self.model}\"\n",
        "        return long_name.title()\n",
        "\n",
        "    def read_odometer(self):\n",
        "        \"\"\"Print a statement showing the car's mileage.\"\"\"\n",
        "        print(f\"This car has {self.odometer_reading} miles on it.\")\n",
        "\n",
        "    def update_odometer(self, mileage):\n",
        "        \"\"\"\n",
        "        Set the odometer reading to the given value.\n",
        "        Reject the change if it attempts to roll the odometer back.\n",
        "        \"\"\"\n",
        "        if mileage >= self.odometer_reading:\n",
        "            self.odometer_reading = mileage\n",
        "        else:\n",
        "            print(\"You can't roll back an odometer!\")\n",
        "\n",
        "# Creating an instance of the Car class\n",
        "my_new_car = Car('audi', 'a4', 2024)\n",
        "\n",
        "# Updating the odometer reading using the update_odometer() method\n",
        "my_new_car.update_odometer(23)\n",
        "my_new_car.read_odometer()  # Output should be 23\n",
        "\n",
        "# Trying to roll back the odometer\n",
        "my_new_car.update_odometer(10)  # This should print the error message\n"
      ],
      "metadata": {
        "colab": {
          "base_uri": "https://localhost:8080/"
        },
        "id": "v_juN-YAkFu4",
        "outputId": "5367f556-216b-485b-b58a-3d9bfda119cd"
      },
      "execution_count": 47,
      "outputs": [
        {
          "output_type": "stream",
          "name": "stdout",
          "text": [
            "This car has 23 miles on it.\n",
            "You can't roll back an odometer!\n"
          ]
        }
      ]
    },
    {
      "cell_type": "code",
      "source": [
        "#10\n",
        "class Car:\n",
        "    def __init__(self, make, model, year):\n",
        "        \"\"\"Initialize attributes to describe a car.\"\"\"\n",
        "        self.make = make\n",
        "        self.model = model\n",
        "        self.year = year\n",
        "        self.odometer_reading = 0\n",
        "\n",
        "    def get_descriptive_name(self):\n",
        "        \"\"\"Return a neatly formatted descriptive name.\"\"\"\n",
        "        long_name = f\"{self.year} {self.make} {self.model}\"\n",
        "        return long_name.title()\n",
        "\n",
        "    def read_odometer(self):\n",
        "        \"\"\"Print a statement showing the car's mileage.\"\"\"\n",
        "        print(f\"This car has {self.odometer_reading} miles on it.\")\n",
        "\n",
        "    def update_odometer(self, mileage):\n",
        "        \"\"\"\n",
        "        Set the odometer reading to the given value.\n",
        "        Reject the change if it attempts to roll the odometer back.\n",
        "        \"\"\"\n",
        "        if mileage >= self.odometer_reading:\n",
        "            self.odometer_reading = mileage\n",
        "        else:\n",
        "            print(\"You can't roll back an odometer!\")\n",
        "\n",
        "    def increment_odometer(self, miles):\n",
        "        \"\"\"Add the given amount to the odometer reading.\"\"\"\n",
        "        self.odometer_reading += miles\n",
        "\n",
        "# Creating an instance of the Car class\n",
        "my_used_car = Car('subaru', 'outback', 2019)\n",
        "\n",
        "# Printing the descriptive name of the car\n",
        "print(my_used_car.get_descriptive_name())\n",
        "\n",
        "# Updating the odometer reading to 23,500\n",
        "my_used_car.update_odometer(23_500)\n",
        "my_used_car.read_odometer()\n",
        "\n",
        "# Incrementing the odometer reading by 100 miles\n",
        "my_used_car.increment_odometer(100)\n",
        "my_used_car.read_odometer()\n"
      ],
      "metadata": {
        "colab": {
          "base_uri": "https://localhost:8080/"
        },
        "id": "slNbRyWkkSXK",
        "outputId": "29bb541f-ef6a-409d-c477-08f2a4585c15"
      },
      "execution_count": 48,
      "outputs": [
        {
          "output_type": "stream",
          "name": "stdout",
          "text": [
            "2019 Subaru Outback\n",
            "This car has 23500 miles on it.\n",
            "This car has 23600 miles on it.\n"
          ]
        }
      ]
    },
    {
      "cell_type": "code",
      "source": [
        "#11\n",
        "class Car:\n",
        "    \"\"\"A simple attempt to represent a car.\"\"\"\n",
        "\n",
        "    def __init__(self, make, model, year):\n",
        "        \"\"\"Initialize attributes to describe a car.\"\"\"\n",
        "        self.make = make\n",
        "        self.model = model\n",
        "        self.year = year\n",
        "        self.odometer_reading = 0\n",
        "\n",
        "    def get_descriptive_name(self):\n",
        "        \"\"\"Return a neatly formatted descriptive name.\"\"\"\n",
        "        long_name = f\"{self.year} {self.make} {self.model}\"\n",
        "        return long_name.title()\n",
        "\n",
        "    def read_odometer(self):\n",
        "        \"\"\"Print a statement showing the car's mileage.\"\"\"\n",
        "        print(f\"This car has {self.odometer_reading} miles on it.\")\n",
        "\n",
        "    def update_odometer(self, mileage):\n",
        "        \"\"\"Set the odometer reading to the given value.\"\"\"\n",
        "        if mileage >= self.odometer_reading:\n",
        "            self.odometer_reading = mileage\n",
        "        else:\n",
        "            print(\"You can't roll back an odometer!\")\n",
        "\n",
        "    def increment_odometer(self, miles):\n",
        "        \"\"\"Add the given amount to the odometer reading.\"\"\"\n",
        "        self.odometer_reading += miles\n",
        "\n",
        "\n",
        "class ElectricCar(Car):\n",
        "    \"\"\"Represent aspects of a car, specific to electric vehicles.\"\"\"\n",
        "\n",
        "    def __init__(self, make, model, year):\n",
        "        \"\"\"Initialize attributes of the parent class.\"\"\"\n",
        "        super().__init__(make, model, year)\n",
        "\n",
        "\n",
        "# Creating an instance of ElectricCar\n",
        "my_leaf = ElectricCar('nissan', 'leaf', 2024)\n",
        "print(my_leaf.get_descriptive_name())\n"
      ],
      "metadata": {
        "colab": {
          "base_uri": "https://localhost:8080/"
        },
        "id": "EyKyyG5wkSjV",
        "outputId": "83fe209c-719f-468a-92bb-de7be0305fbe"
      },
      "execution_count": 49,
      "outputs": [
        {
          "output_type": "stream",
          "name": "stdout",
          "text": [
            "2024 Nissan Leaf\n"
          ]
        }
      ]
    },
    {
      "cell_type": "code",
      "source": [
        "#12\n",
        "class Car:\n",
        "    \"\"\"A simple attempt to represent a car.\"\"\"\n",
        "\n",
        "    def __init__(self, make, model, year):\n",
        "        \"\"\"Initialize attributes to describe a car.\"\"\"\n",
        "        self.make = make\n",
        "        self.model = model\n",
        "        self.year = year\n",
        "        self.odometer_reading = 0\n",
        "\n",
        "    def get_descriptive_name(self):\n",
        "        \"\"\"Return a neatly formatted descriptive name.\"\"\"\n",
        "        long_name = f\"{self.year} {self.make} {self.model}\"\n",
        "        return long_name.title()\n",
        "\n",
        "    def read_odometer(self):\n",
        "        \"\"\"Print a statement showing the car's mileage.\"\"\"\n",
        "        print(f\"This car has {self.odometer_reading} miles on it.\")\n",
        "\n",
        "    def update_odometer(self, mileage):\n",
        "        \"\"\"Set the odometer reading to the given value.\"\"\"\n",
        "        if mileage >= self.odometer_reading:\n",
        "            self.odometer_reading = mileage\n",
        "        else:\n",
        "            print(\"You can't roll back an odometer!\")\n",
        "\n",
        "    def increment_odometer(self, miles):\n",
        "        \"\"\"Add the given amount to the odometer reading.\"\"\"\n",
        "        self.odometer_reading += miles\n",
        "\n",
        "\n",
        "class ElectricCar(Car):\n",
        "    \"\"\"Represent aspects of a car, specific to electric vehicles.\"\"\"\n",
        "\n",
        "    def __init__(self, make, model, year):\n",
        "        \"\"\"\n",
        "        Initialize attributes of the parent class.\n",
        "        Then initialize attributes specific to an electric car.\n",
        "        \"\"\"\n",
        "        super().__init__(make, model, year)\n",
        "        self.battery_size = 40\n",
        "\n",
        "    def describe_battery(self):\n",
        "        \"\"\"Print a statement describing the battery size.\"\"\"\n",
        "        print(f\"This car has a {self.battery_size}-kWh battery.\")\n",
        "\n",
        "\n",
        "# Creating an instance of ElectricCar\n",
        "my_leaf = ElectricCar('nissan', 'leaf', 2024)\n",
        "print(my_leaf.get_descriptive_name())\n",
        "my_leaf.describe_battery()\n"
      ],
      "metadata": {
        "colab": {
          "base_uri": "https://localhost:8080/"
        },
        "id": "RdrTOWEVkSpf",
        "outputId": "ad71b583-db37-42e8-93f5-5716f7f7f1e5"
      },
      "execution_count": 50,
      "outputs": [
        {
          "output_type": "stream",
          "name": "stdout",
          "text": [
            "2024 Nissan Leaf\n",
            "This car has a 40-kWh battery.\n"
          ]
        }
      ]
    },
    {
      "cell_type": "code",
      "source": [
        "#13\n",
        "class ElectricCar(Car):\n",
        "    \"\"\"Represent aspects of a car, specific to electric vehicles.\"\"\"\n",
        "\n",
        "    def fill_gas_tank(self):\n",
        "        \"\"\"Electric cars don't have gas tanks.\"\"\"\n",
        "        print(\"This car doesn't have a gas tank!\")\n"
      ],
      "metadata": {
        "id": "ivdzsybClOo0"
      },
      "execution_count": 51,
      "outputs": []
    },
    {
      "cell_type": "code",
      "source": [
        "#14\n",
        "class Car:\n",
        "    \"\"\"A simple attempt to represent a car.\"\"\"\n",
        "\n",
        "    def __init__(self, make, model, year):\n",
        "        \"\"\"Initialize attributes to describe a car.\"\"\"\n",
        "        self.make = make\n",
        "        self.model = model\n",
        "        self.year = year\n",
        "\n",
        "    def get_descriptive_name(self):\n",
        "        \"\"\"Return a neatly formatted descriptive name.\"\"\"\n",
        "        long_name = f\"{self.year} {self.make} {self.model}\"\n",
        "        return long_name.title()\n",
        "\n",
        "class Battery:\n",
        "    \"\"\"A simple attempt to model a battery for an electric car.\"\"\"\n",
        "\n",
        "    def __init__(self, battery_size=40):\n",
        "        \"\"\"Initialize the battery's attributes.\"\"\"\n",
        "        self.battery_size = battery_size\n",
        "\n",
        "    def describe_battery(self):\n",
        "        \"\"\"Print a statement describing the battery size.\"\"\"\n",
        "        print(f\"This car has a {self.battery_size}-kWh battery.\")\n",
        "\n",
        "class ElectricCar(Car):\n",
        "    \"\"\"Represent aspects of a car, specific to electric vehicles.\"\"\"\n",
        "\n",
        "    def __init__(self, make, model, year):\n",
        "        \"\"\"\n",
        "        Initialize attributes of the parent class.\n",
        "        Then initialize attributes specific to an electric car.\n",
        "        \"\"\"\n",
        "        super().__init__(make, model, year)\n",
        "        self.battery = Battery()\n",
        "\n",
        "# Creating an instance of ElectricCar\n",
        "my_leaf = ElectricCar('nissan', 'leaf', 2024)\n",
        "\n",
        "# Printing the descriptive name of the car\n",
        "print(my_leaf.get_descriptive_name())\n",
        "\n",
        "# Describing the battery of the car\n",
        "my_leaf.battery.describe_battery()\n"
      ],
      "metadata": {
        "colab": {
          "base_uri": "https://localhost:8080/"
        },
        "id": "6wQEfqEilOr5",
        "outputId": "b5afdd77-37e6-4fb9-a756-eae07ec4bc3e"
      },
      "execution_count": 52,
      "outputs": [
        {
          "output_type": "stream",
          "name": "stdout",
          "text": [
            "2024 Nissan Leaf\n",
            "This car has a 40-kWh battery.\n"
          ]
        }
      ]
    },
    {
      "cell_type": "code",
      "source": [
        "#15\n",
        "class Car:\n",
        "    \"\"\"A simple attempt to represent a car.\"\"\"\n",
        "\n",
        "    def __init__(self, make, model, year):\n",
        "        \"\"\"Initialize attributes to describe a car.\"\"\"\n",
        "        self.make = make\n",
        "        self.model = model\n",
        "        self.year = year\n",
        "\n",
        "    def get_descriptive_name(self):\n",
        "        \"\"\"Return a neatly formatted descriptive name.\"\"\"\n",
        "        long_name = f\"{self.year} {self.make} {self.model}\"\n",
        "        return long_name.title()\n",
        "\n",
        "class Battery:\n",
        "    \"\"\"A simple attempt to model a battery for an electric car.\"\"\"\n",
        "\n",
        "    def __init__(self, battery_size=40):\n",
        "        \"\"\"Initialize the battery's attributes.\"\"\"\n",
        "        self.battery_size = battery_size\n",
        "\n",
        "    def describe_battery(self):\n",
        "        \"\"\"Print a statement describing the battery size.\"\"\"\n",
        "        print(f\"This car has a {self.battery_size}-kWh battery.\")\n",
        "\n",
        "class ElectricCar(Car):\n",
        "    \"\"\"Represent aspects of a car, specific to electric vehicles.\"\"\"\n",
        "\n",
        "    def __init__(self, make, model, year):\n",
        "        \"\"\"\n",
        "        Initialize attributes of the parent class.\n",
        "        Then initialize attributes specific to an electric car.\n",
        "        \"\"\"\n",
        "        super().__init__(make, model, year)\n",
        "        self.battery = Battery()\n",
        "\n",
        "    def get_range(self):\n",
        "        \"\"\"Print a statement about the range this battery provides.\"\"\"\n",
        "        if self.battery.battery_size == 40:\n",
        "            range_miles = 150\n",
        "        elif self.battery.battery_size == 65:\n",
        "            range_miles = 225\n",
        "        print(f\"This car can go about {range_miles} miles on a full charge.\")\n",
        "\n",
        "# Creating an instance of ElectricCar\n",
        "my_leaf = ElectricCar('nissan', 'leaf', 2024)\n",
        "\n",
        "# Printing the descriptive name of the car\n",
        "print(my_leaf.get_descriptive_name())\n",
        "\n",
        "# Describing the battery of the car\n",
        "my_leaf.battery.describe_battery()\n",
        "\n",
        "# Getting the range of the car\n",
        "my_leaf.get_range()\n",
        "\n"
      ],
      "metadata": {
        "colab": {
          "base_uri": "https://localhost:8080/"
        },
        "id": "1M95ZlfYlOuo",
        "outputId": "6a7701a1-1ff2-481a-9ce7-dbc19c55ce92"
      },
      "execution_count": 53,
      "outputs": [
        {
          "output_type": "stream",
          "name": "stdout",
          "text": [
            "2024 Nissan Leaf\n",
            "This car has a 40-kWh battery.\n",
            "This car can go about 150 miles on a full charge.\n"
          ]
        }
      ]
    },
    {
      "cell_type": "code",
      "source": [
        "#9-1\n",
        "class Restaurant:\n",
        "    \"\"\"A class to represent a restaurant.\"\"\"\n",
        "\n",
        "    def __init__(self, restaurant_name, cuisine_type):\n",
        "        \"\"\"Initialize the restaurant_name and cuisine_type attributes.\"\"\"\n",
        "        self.restaurant_name = restaurant_name\n",
        "        self.cuisine_type = cuisine_type\n",
        "\n",
        "    def describe_restaurant(self):\n",
        "        \"\"\"Print information about the restaurant.\"\"\"\n",
        "        print(f\"Restaurant Name: {self.restaurant_name}\")\n",
        "        print(f\"Cuisine Type: {self.cuisine_type}\")\n",
        "\n",
        "    def open_restaurant(self):\n",
        "        \"\"\"Print a message indicating that the restaurant is open.\"\"\"\n",
        "        print(f\"{self.restaurant_name} is now open!\")\n",
        "\n",
        "\n",
        "# Creating an instance called restaurant from the Restaurant class\n",
        "restaurant = Restaurant(\"The Great Feast\", \"Italian\")\n",
        "\n",
        "# Printing the attributes individually\n",
        "print(\"Restaurant Name:\", restaurant.restaurant_name)\n",
        "print(\"Cuisine Type:\", restaurant.cuisine_type)\n",
        "\n",
        "# Calling both methods\n",
        "restaurant.describe_restaurant()\n",
        "restaurant.open_restaurant()\n"
      ],
      "metadata": {
        "colab": {
          "base_uri": "https://localhost:8080/"
        },
        "id": "w0LHeFJRixmc",
        "outputId": "9c843462-b49e-488a-b9a9-b715ab999b82"
      },
      "execution_count": 54,
      "outputs": [
        {
          "output_type": "stream",
          "name": "stdout",
          "text": [
            "Restaurant Name: The Great Feast\n",
            "Cuisine Type: Italian\n",
            "Restaurant Name: The Great Feast\n",
            "Cuisine Type: Italian\n",
            "The Great Feast is now open!\n"
          ]
        }
      ]
    },
    {
      "cell_type": "code",
      "source": [
        "#9-2\n",
        "class Restaurant:\n",
        "    \"\"\"A class to represent a restaurant.\"\"\"\n",
        "\n",
        "    def __init__(self, restaurant_name, cuisine_type):\n",
        "        \"\"\"Initialize the restaurant_name and cuisine_type attributes.\"\"\"\n",
        "        self.restaurant_name = restaurant_name\n",
        "        self.cuisine_type = cuisine_type\n",
        "\n",
        "    def describe_restaurant(self):\n",
        "        \"\"\"Print information about the restaurant.\"\"\"\n",
        "        print(f\"Restaurant Name: {self.restaurant_name}\")\n",
        "        print(f\"Cuisine Type: {self.cuisine_type}\")\n",
        "\n",
        "\n",
        "# Creating three different instances of the Restaurant class\n",
        "restaurant1 = Restaurant(\"The Great Feast\", \"Italian\")\n",
        "restaurant2 = Restaurant(\"Spice Junction\", \"Indian\")\n",
        "restaurant3 = Restaurant(\"Sushi Express\", \"Japanese\")\n",
        "\n",
        "# Calling describe_restaurant() for each instance\n",
        "restaurant1.describe_restaurant()\n",
        "print(\"-----------------------------\")\n",
        "restaurant2.describe_restaurant()\n",
        "print(\"-----------------------------\")\n",
        "restaurant3.describe_restaurant()\n"
      ],
      "metadata": {
        "colab": {
          "base_uri": "https://localhost:8080/"
        },
        "id": "zj4XMOzxi3_5",
        "outputId": "20959380-dbd5-4671-fde6-f8cd1be442da"
      },
      "execution_count": 55,
      "outputs": [
        {
          "output_type": "stream",
          "name": "stdout",
          "text": [
            "Restaurant Name: The Great Feast\n",
            "Cuisine Type: Italian\n",
            "-----------------------------\n",
            "Restaurant Name: Spice Junction\n",
            "Cuisine Type: Indian\n",
            "-----------------------------\n",
            "Restaurant Name: Sushi Express\n",
            "Cuisine Type: Japanese\n"
          ]
        }
      ]
    },
    {
      "cell_type": "code",
      "source": [
        "#9-3\n",
        "class User:\n",
        "    \"\"\"A class to represent a user.\"\"\"\n",
        "\n",
        "    def __init__(self, first_name, last_name, age, email):\n",
        "        \"\"\"Initialize the user's attributes.\"\"\"\n",
        "        self.first_name = first_name\n",
        "        self.last_name = last_name\n",
        "        self.age = age\n",
        "        self.email = email\n",
        "\n",
        "    def describe_user(self):\n",
        "        \"\"\"Print a summary of the user's information.\"\"\"\n",
        "        print(\"User Information:\")\n",
        "        print(f\"First Name: {self.first_name}\")\n",
        "        print(f\"Last Name: {self.last_name}\")\n",
        "        print(f\"Age: {self.age}\")\n",
        "        print(f\"Email: {self.email}\")\n",
        "\n",
        "    def greet_user(self):\n",
        "        \"\"\"Print a personalized greeting to the user.\"\"\"\n",
        "        print(f\"Hello, {self.first_name}! Welcome back.\")\n",
        "\n",
        "\n",
        "# Creating instances representing different users\n",
        "user1 = User(\"John\", \"Doe\", 30, \"john.doe@example.com\")\n",
        "user2 = User(\"Alice\", \"Smith\", 25, \"alice.smith@example.com\")\n",
        "user3 = User(\"Bob\", \"Johnson\", 40, \"bob.johnson@example.com\")\n",
        "\n",
        "# Calling both methods for each user\n",
        "user1.describe_user()\n",
        "user1.greet_user()\n",
        "print(\"-----------------------------------\")\n",
        "user2.describe_user()\n",
        "user2.greet_user()\n",
        "print(\"-----------------------------------\")\n",
        "user3.describe_user()\n",
        "user3.greet_user()\n"
      ],
      "metadata": {
        "colab": {
          "base_uri": "https://localhost:8080/"
        },
        "id": "giIUJKB5jGpZ",
        "outputId": "dea00462-21ea-4fdd-e268-c30ff447da4d"
      },
      "execution_count": 56,
      "outputs": [
        {
          "output_type": "stream",
          "name": "stdout",
          "text": [
            "User Information:\n",
            "First Name: John\n",
            "Last Name: Doe\n",
            "Age: 30\n",
            "Email: john.doe@example.com\n",
            "Hello, John! Welcome back.\n",
            "-----------------------------------\n",
            "User Information:\n",
            "First Name: Alice\n",
            "Last Name: Smith\n",
            "Age: 25\n",
            "Email: alice.smith@example.com\n",
            "Hello, Alice! Welcome back.\n",
            "-----------------------------------\n",
            "User Information:\n",
            "First Name: Bob\n",
            "Last Name: Johnson\n",
            "Age: 40\n",
            "Email: bob.johnson@example.com\n",
            "Hello, Bob! Welcome back.\n"
          ]
        }
      ]
    },
    {
      "cell_type": "code",
      "source": [
        "#9-6\n",
        "class Restaurant:\n",
        "    \"\"\"A class to represent a restaurant.\"\"\"\n",
        "\n",
        "    def __init__(self, restaurant_name, cuisine_type):\n",
        "        \"\"\"Initialize name and cuisine type attributes.\"\"\"\n",
        "        self.restaurant_name = restaurant_name\n",
        "        self.cuisine_type = cuisine_type\n",
        "\n",
        "    def describe_restaurant(self):\n",
        "        \"\"\"Print information about the restaurant.\"\"\"\n",
        "        print(f\"Restaurant Name: {self.restaurant_name}\")\n",
        "        print(f\"Cuisine Type: {self.cuisine_type}\")\n",
        "\n",
        "    def open_restaurant(self):\n",
        "        \"\"\"Print a message indicating the restaurant is open.\"\"\"\n",
        "        print(f\"{self.restaurant_name} is now open!\")\n",
        "\n",
        "class IceCreamStand(Restaurant):\n",
        "    \"\"\"A class to represent an ice cream stand, inheriting from Restaurant.\"\"\"\n",
        "\n",
        "    def __init__(self, restaurant_name, cuisine_type):\n",
        "        \"\"\"\n",
        "        Initialize attributes of the parent class.\n",
        "        Then initialize attributes specific to an ice cream stand.\n",
        "        \"\"\"\n",
        "        super().__init__(restaurant_name, cuisine_type)\n",
        "        self.flavors = []\n",
        "\n",
        "    def display_flavors(self):\n",
        "        \"\"\"Display the available ice cream flavors.\"\"\"\n",
        "        print(\"Available Ice Cream Flavors:\")\n",
        "        for flavor in self.flavors:\n",
        "            print(\"- \" + flavor)\n",
        "\n",
        "# Creating an instance of IceCreamStand\n",
        "ice_cream_stand = IceCreamStand(\"Scoops & Smiles\", \"Ice Cream\")\n",
        "\n",
        "# Adding some flavors to the ice cream stand\n",
        "ice_cream_stand.flavors = [\"Vanilla\", \"Chocolate\", \"Strawberry\", \"Mint Chocolate Chip\"]\n",
        "\n",
        "# Displaying the available flavors\n",
        "ice_cream_stand.display_flavors()\n"
      ],
      "metadata": {
        "colab": {
          "base_uri": "https://localhost:8080/"
        },
        "id": "RqGWwB-akMPG",
        "outputId": "1e27a8df-fd3b-4768-dc0e-2bbe33b38bb9"
      },
      "execution_count": 57,
      "outputs": [
        {
          "output_type": "stream",
          "name": "stdout",
          "text": [
            "Available Ice Cream Flavors:\n",
            "- Vanilla\n",
            "- Chocolate\n",
            "- Strawberry\n",
            "- Mint Chocolate Chip\n"
          ]
        }
      ]
    },
    {
      "cell_type": "code",
      "source": [
        "#9-7\n",
        "class User:\n",
        "    \"\"\"A class to represent a user.\"\"\"\n",
        "\n",
        "    def __init__(self, first_name, last_name, username, email):\n",
        "        \"\"\"Initialize user attributes.\"\"\"\n",
        "        self.first_name = first_name\n",
        "        self.last_name = last_name\n",
        "        self.username = username\n",
        "        self.email = email\n",
        "\n",
        "    def describe_user(self):\n",
        "        \"\"\"Print a summary of the user's information.\"\"\"\n",
        "        print(f\"User Information:\")\n",
        "        print(f\"First Name: {self.first_name}\")\n",
        "        print(f\"Last Name: {self.last_name}\")\n",
        "        print(f\"Username: {self.username}\")\n",
        "        print(f\"Email: {self.email}\")\n",
        "\n",
        "class Admin(User):\n",
        "    \"\"\"A class to represent an administrator, inheriting from User.\"\"\"\n",
        "\n",
        "    def __init__(self, first_name, last_name, username, email):\n",
        "        \"\"\"\n",
        "        Initialize attributes of the parent class.\n",
        "        Then initialize attributes specific to an administrator.\n",
        "        \"\"\"\n",
        "        super().__init__(first_name, last_name, username, email)\n",
        "        self.privileges = [\"can add post\", \"can delete post\", \"can ban user\"]\n",
        "\n",
        "    def show_privileges(self):\n",
        "        \"\"\"Display the administrator's privileges.\"\"\"\n",
        "        print(\"Administrator's Privileges:\")\n",
        "        for privilege in self.privileges:\n",
        "            print(\"- \" + privilege)\n",
        "\n",
        "# Creating an instance of Admin\n",
        "admin = Admin(\"John\", \"Doe\", \"johndoe\", \"johndoe@example.com\")\n",
        "\n",
        "# Displaying the user information\n",
        "admin.describe_user()\n",
        "\n",
        "# Displaying the administrator's privileges\n",
        "admin.show_privileges()\n"
      ],
      "metadata": {
        "colab": {
          "base_uri": "https://localhost:8080/"
        },
        "id": "yiA6Ep__jZu4",
        "outputId": "a5dd15cd-19a3-46e9-8bae-2e61b5f5a36c"
      },
      "execution_count": 58,
      "outputs": [
        {
          "output_type": "stream",
          "name": "stdout",
          "text": [
            "User Information:\n",
            "First Name: John\n",
            "Last Name: Doe\n",
            "Username: johndoe\n",
            "Email: johndoe@example.com\n",
            "Administrator's Privileges:\n",
            "- can add post\n",
            "- can delete post\n",
            "- can ban user\n"
          ]
        }
      ]
    },
    {
      "cell_type": "code",
      "source": [],
      "metadata": {
        "id": "vdNJFmmNm12P"
      },
      "execution_count": 58,
      "outputs": []
    }
  ]
}