{
  "nbformat": 4,
  "nbformat_minor": 0,
  "metadata": {
    "colab": {
      "provenance": [],
      "authorship_tag": "ABX9TyMbPj2VvSZ6za7EtbSbClLY",
      "include_colab_link": true
    },
    "kernelspec": {
      "name": "python3",
      "display_name": "Python 3"
    },
    "language_info": {
      "name": "python"
    }
  },
  "cells": [
    {
      "cell_type": "markdown",
      "metadata": {
        "id": "view-in-github",
        "colab_type": "text"
      },
      "source": [
        "<a href=\"https://colab.research.google.com/github/Krishbista10/CSC221_kbist001/blob/main/Assignment_5.ipynb\" target=\"_parent\"><img src=\"https://colab.research.google.com/assets/colab-badge.svg\" alt=\"Open In Colab\"/></a>"
      ]
    },
    {
      "cell_type": "code",
      "execution_count": 2,
      "metadata": {
        "colab": {
          "base_uri": "https://localhost:8080/"
        },
        "id": "sqqY0PEvvGah",
        "outputId": "3af6788d-58c5-465d-99d2-94c6451ae643"
      },
      "outputs": [
        {
          "output_type": "stream",
          "name": "stdout",
          "text": [
            "Hawaiian \n",
            "cheese\n",
            " chicken\n",
            "\n",
            "I like Hawaiian  pizza.\n",
            "\n",
            "I like cheese pizza.\n",
            "\n",
            "I like  chicken pizza.\n",
            "\n",
            "I really love pizza!\n"
          ]
        }
      ],
      "source": [
        "#TIY 4-1\n",
        "pizzas = [\"Hawaiian \", \"cheese\", \" chicken\"]\n",
        "for pizza in pizzas:\n",
        "    print(pizza)\n",
        "\n",
        "for pizza in pizzas:\n",
        "    print(f\"\\nI like {pizza} pizza.\")\n",
        "\n",
        "print(\"\\nI really love pizza!\")\n",
        "\n"
      ]
    },
    {
      "cell_type": "code",
      "source": [
        "#TIY 4-2\n",
        "flying_animals = [\"eagle\", \"parrot\", \"crow\"]\n",
        "\n",
        "for animal in flying_animals:\n",
        "    print(animal)\n",
        "\n",
        "for animal in flying_animals:\n",
        "    print(f\"\\nA {animal} can fly.\")\n",
        "\n",
        "print(\"\\nThese flying animals have in common:\")\n",
        "print(\"All of these animals can fly!\")\n"
      ],
      "metadata": {
        "colab": {
          "base_uri": "https://localhost:8080/"
        },
        "id": "NPxXlgoCyJ3m",
        "outputId": "f0655a95-03df-45fa-e866-814d95f55f48"
      },
      "execution_count": 4,
      "outputs": [
        {
          "output_type": "stream",
          "name": "stdout",
          "text": [
            "eagle\n",
            "parrot\n",
            "crow\n",
            "\n",
            "A eagle can fly.\n",
            "\n",
            "A parrot can fly.\n",
            "\n",
            "A crow can fly.\n",
            "\n",
            "These flying animals have in common:\n",
            "All of these animals can fly!\n"
          ]
        }
      ]
    },
    {
      "cell_type": "code",
      "source": [
        "#TIY 4-3\n",
        "for i in range(1, 21):\n",
        "    print(i)\n"
      ],
      "metadata": {
        "colab": {
          "base_uri": "https://localhost:8080/"
        },
        "id": "7IcQJAvoyUDU",
        "outputId": "c3d8aa05-e633-4403-82ab-bb5f5b265f7e"
      },
      "execution_count": 5,
      "outputs": [
        {
          "output_type": "stream",
          "name": "stdout",
          "text": [
            "1\n",
            "2\n",
            "3\n",
            "4\n",
            "5\n",
            "6\n",
            "7\n",
            "8\n",
            "9\n",
            "10\n",
            "11\n",
            "12\n",
            "13\n",
            "14\n",
            "15\n",
            "16\n",
            "17\n",
            "18\n",
            "19\n",
            "20\n"
          ]
        }
      ]
    },
    {
      "cell_type": "code",
      "source": [
        "#TIY 4-4\n",
        "for number in range(1, 1000001):\n",
        "    print(number)\n"
      ],
      "metadata": {
        "id": "uhHfRRQ8yXfq"
      },
      "execution_count": null,
      "outputs": []
    },
    {
      "cell_type": "code",
      "source": [
        "#TIY 4-5\n",
        "numbers = list(range(1, 1000001))\n",
        "\n",
        "print(\"Minimum:\", min(numbers))\n",
        "print(\"Maximum:\", max(numbers))\n",
        "\n",
        "print(\"Sum:\", sum(numbers))"
      ],
      "metadata": {
        "colab": {
          "base_uri": "https://localhost:8080/"
        },
        "id": "d3RGmgL6yb5x",
        "outputId": "6ddf7f33-8547-4024-81fa-32f04abb98e5"
      },
      "execution_count": 8,
      "outputs": [
        {
          "output_type": "stream",
          "name": "stdout",
          "text": [
            "Minimum: 1\n",
            "Maximum: 1000000\n",
            "Sum: 500000500000\n"
          ]
        }
      ]
    },
    {
      "cell_type": "code",
      "source": [
        "#TIY 4-6\n",
        "odd_numbers = list(range(1,21,2))\n",
        "\n",
        "for number in odd_numbers:\n",
        "    print(number)"
      ],
      "metadata": {
        "colab": {
          "base_uri": "https://localhost:8080/"
        },
        "id": "ZHSJjMQpy1X7",
        "outputId": "9ee79a94-faa5-4aad-9f8e-e41e97ff26b3"
      },
      "execution_count": 9,
      "outputs": [
        {
          "output_type": "stream",
          "name": "stdout",
          "text": [
            "1\n",
            "3\n",
            "5\n",
            "7\n",
            "9\n",
            "11\n",
            "13\n",
            "15\n",
            "17\n",
            "19\n"
          ]
        }
      ]
    },
    {
      "cell_type": "code",
      "source": [
        "#TIY 4-7\n",
        "multiple_of_3 = [num for num in range(3,31) if num % 3 == 0]\n",
        "\n",
        "for multiple in multiple_of_3:\n",
        "    print(multiple)"
      ],
      "metadata": {
        "colab": {
          "base_uri": "https://localhost:8080/"
        },
        "id": "hxw0qGjXy6W_",
        "outputId": "4457ce27-fd3f-42fc-f406-54cf8988d3f1"
      },
      "execution_count": 10,
      "outputs": [
        {
          "output_type": "stream",
          "name": "stdout",
          "text": [
            "3\n",
            "6\n",
            "9\n",
            "12\n",
            "15\n",
            "18\n",
            "21\n",
            "24\n",
            "27\n",
            "30\n"
          ]
        }
      ]
    },
    {
      "cell_type": "code",
      "source": [
        "#TIY 4-8\n",
        "cubes = []\n",
        "\n",
        "for x in range(1,11):\n",
        "    cubes.append(x**3)\n",
        "\n",
        "for cube in cubes:\n",
        "    print(cube)\n"
      ],
      "metadata": {
        "colab": {
          "base_uri": "https://localhost:8080/"
        },
        "id": "1TnPFMoCy9yf",
        "outputId": "b319717f-c7dd-4da1-ff94-cf9c8ca8b19a"
      },
      "execution_count": 11,
      "outputs": [
        {
          "output_type": "stream",
          "name": "stdout",
          "text": [
            "1\n",
            "8\n",
            "27\n",
            "64\n",
            "125\n",
            "216\n",
            "343\n",
            "512\n",
            "729\n",
            "1000\n"
          ]
        }
      ]
    },
    {
      "cell_type": "code",
      "source": [
        "#TIY 4-9\n",
        "cubes = [num**3 for num in range(1,11)]\n",
        "\n",
        "for cube in cubes:\n",
        "    print(cube)"
      ],
      "metadata": {
        "colab": {
          "base_uri": "https://localhost:8080/"
        },
        "id": "uzRYRDlnzBb7",
        "outputId": "3e5fc482-b9ed-497e-fd7a-5e686933d9ec"
      },
      "execution_count": 12,
      "outputs": [
        {
          "output_type": "stream",
          "name": "stdout",
          "text": [
            "1\n",
            "8\n",
            "27\n",
            "64\n",
            "125\n",
            "216\n",
            "343\n",
            "512\n",
            "729\n",
            "1000\n"
          ]
        }
      ]
    },
    {
      "cell_type": "code",
      "source": [
        "#TIY 4-10\n",
        "items = [\"apple\", \"banana\", \"orange\", \"grapes\", \"pineapple\", \"watermelon\", \"peach\", \"pear\", \"kiwi\"]\n",
        "print(f\"\\nThe first three items in the list are : {items[0:3]}\")\n",
        "\n",
        "print(f\"\\nThe middle three items in the list are : {items[3:6]}\")\n",
        "\n",
        "print(f\"\\nThe last three items in the list are : {items[-3:]}\")\n",
        "\n"
      ],
      "metadata": {
        "colab": {
          "base_uri": "https://localhost:8080/"
        },
        "id": "8l6LrgDuzEby",
        "outputId": "96bb5bc3-1b26-4b23-e5b9-212bfb52c900"
      },
      "execution_count": 13,
      "outputs": [
        {
          "output_type": "stream",
          "name": "stdout",
          "text": [
            "\n",
            "The first three items in the list are : ['apple', 'banana', 'orange']\n",
            "\n",
            "The middle three items in the list are : ['grapes', 'pineapple', 'watermelon']\n",
            "\n",
            "The last three items in the list are : ['peach', 'pear', 'kiwi']\n"
          ]
        }
      ]
    },
    {
      "cell_type": "code",
      "source": [
        "#TIY 4-11\n",
        "\n",
        "pizzas = [\"Hwaiian\", \"cheese\", \"chicken\"]\n",
        "\n",
        "friends_pizza = pizzas[:]\n",
        "\n",
        "pizzas.append(\"sausage\")\n",
        "\n",
        "friends_pizza.append(\"vegeterian\")\n",
        "\n",
        "print(\"\\nMy favorite pizzas are:\")\n",
        "print(pizzas)\n",
        "\n",
        "print(\"\\nMy friend's favorite pizzas are:\")\n",
        "print(friends_pizza)\n"
      ],
      "metadata": {
        "colab": {
          "base_uri": "https://localhost:8080/"
        },
        "id": "dHdaiT6_zI0q",
        "outputId": "50fb7fd6-403f-4cda-e23e-d5ab39c1b1d6"
      },
      "execution_count": 15,
      "outputs": [
        {
          "output_type": "stream",
          "name": "stdout",
          "text": [
            "\n",
            "My favorite pizzas are:\n",
            "['Hwaiian', 'cheese', 'chicken', 'sausage']\n",
            "\n",
            "My friend's favorite pizzas are:\n",
            "['Hwaiian', 'cheese', 'chicken', 'vegeterian']\n"
          ]
        }
      ]
    },
    {
      "cell_type": "code",
      "source": [
        "#TIY 4-12\n",
        "my_food = ['cheese cake', 'burger', 'hot dog']\n",
        "friends_food = my_food[:]\n",
        "\n",
        "my_food.append(\"jelly\")\n",
        "friends_food.append(\"beans\")\n",
        "\n",
        "print(\"\\nMy favorite foods are :\")\n",
        "for food in my_food:\n",
        "    print(food)\n",
        "\n",
        "print(\"\\nMy friend's favorite foods are :\")\n",
        "for food in friends_food:\n",
        "    print(food)"
      ],
      "metadata": {
        "colab": {
          "base_uri": "https://localhost:8080/"
        },
        "id": "cb6ZodDXzZGf",
        "outputId": "b6aaa779-096c-4705-8852-405ccf972aec"
      },
      "execution_count": 16,
      "outputs": [
        {
          "output_type": "stream",
          "name": "stdout",
          "text": [
            "\n",
            "My favorite foods are :\n",
            "cheese cake\n",
            "burger\n",
            "hot dog\n",
            "jelly\n",
            "\n",
            "My friend's favorite foods are :\n",
            "cheese cake\n",
            "burger\n",
            "hot dog\n",
            "beans\n"
          ]
        }
      ]
    },
    {
      "cell_type": "code",
      "source": [
        "#TIY 4-13\n",
        "foods = (\"lasagna\", \"sushi\", \"fries\", \"apple pie\", \"chocolate cake\")\n",
        "\n",
        "for food in foods:\n",
        "    print(food)\n",
        "\n",
        "#foods[0] = \"sausage\" #this line raised an error\n",
        "\n",
        "#replaced all existing food names\n",
        "foods = (\"pasta\", \"hotdog\", \"nachos\", \"cheesecake\", \"ice cream\")\n",
        "\n",
        "print(\"\\nRevised menu:\")\n",
        "for food in foods:\n",
        "    print(food)"
      ],
      "metadata": {
        "colab": {
          "base_uri": "https://localhost:8080/"
        },
        "id": "KhM42Ce_0EHc",
        "outputId": "5e408d04-5034-4185-9b7f-e6161e887a30"
      },
      "execution_count": 17,
      "outputs": [
        {
          "output_type": "stream",
          "name": "stdout",
          "text": [
            "lasagna\n",
            "sushi\n",
            "fries\n",
            "apple pie\n",
            "chocolate cake\n",
            "\n",
            "Revised menu:\n",
            "pasta\n",
            "hotdog\n",
            "nachos\n",
            "cheesecake\n",
            "ice cream\n"
          ]
        }
      ]
    },
    {
      "cell_type": "code",
      "source": [
        "#TIY 4-14\n",
        "#looked through the pep 8 style guide\n"
      ],
      "metadata": {
        "id": "icDpzGd90fOC"
      },
      "execution_count": null,
      "outputs": []
    },
    {
      "cell_type": "code",
      "source": [
        "#TIY 4-15\n",
        "#1st program\n",
        "flying_animals = [\"eagle\", \"parrot\", \"crow\"]\n",
        "\n",
        "for animal in flying_animals:\n",
        "    print(animal)\n",
        "\n",
        "for animal in flying_animals:\n",
        "    print(f\"\\nA {animal} can fly.\")\n",
        "\n",
        "print(\"\\nThese flying animals have in common:\")\n",
        "print(\"All of these animals can fly!\")"
      ],
      "metadata": {
        "colab": {
          "base_uri": "https://localhost:8080/"
        },
        "id": "sfVzX5Ub0kYU",
        "outputId": "9e659e90-46be-4192-faa2-2c3a6a4bd488"
      },
      "execution_count": 19,
      "outputs": [
        {
          "output_type": "stream",
          "name": "stdout",
          "text": [
            "eagle\n",
            "parrot\n",
            "crow\n",
            "\n",
            "A eagle can fly.\n",
            "\n",
            "A parrot can fly.\n",
            "\n",
            "A crow can fly.\n",
            "\n",
            "These flying animals have in common:\n",
            "All of these animals can fly!\n"
          ]
        }
      ]
    },
    {
      "cell_type": "code",
      "source": [
        "#2program\n",
        "for i in range(1, 21):\n",
        "    print(i)\n",
        "\n"
      ],
      "metadata": {
        "colab": {
          "base_uri": "https://localhost:8080/"
        },
        "id": "9K10TAf106cD",
        "outputId": "3a1d8ee6-c159-4d72-c5d6-dad163a31fb0"
      },
      "execution_count": 20,
      "outputs": [
        {
          "output_type": "stream",
          "name": "stdout",
          "text": [
            "1\n",
            "2\n",
            "3\n",
            "4\n",
            "5\n",
            "6\n",
            "7\n",
            "8\n",
            "9\n",
            "10\n",
            "11\n",
            "12\n",
            "13\n",
            "14\n",
            "15\n",
            "16\n",
            "17\n",
            "18\n",
            "19\n",
            "20\n"
          ]
        }
      ]
    },
    {
      "cell_type": "code",
      "source": [
        "#3program\n",
        "for number in range(1, 1000001):\n",
        "    print(number)"
      ],
      "metadata": {
        "id": "T026ypaN1B4B"
      },
      "execution_count": 22,
      "outputs": []
    },
    {
      "cell_type": "code",
      "source": [
        "\n",
        "#2\n",
        "def factorial(n):\n",
        "   if n < 0:\n",
        "       raise ValueError(\"Factorial is not defined for negative numbers\")\n",
        "   elif n == 0:\n",
        "       return 1\n",
        "   else:\n",
        "       numbers = list(range(1, n + 1))\n",
        "       product = 1\n",
        "       for x in numbers:\n",
        "           product *= x\n",
        "       return product\n",
        "\n",
        "print(factorial(5))\n",
        "print(factorial(10))\n",
        "print(factorial(20))\n",
        "print(factorial(50))\n"
      ],
      "metadata": {
        "colab": {
          "base_uri": "https://localhost:8080/"
        },
        "id": "IaX0Pg8B2Q-V",
        "outputId": "9507c861-c484-458b-909d-18f6d86b382c"
      },
      "execution_count": 23,
      "outputs": [
        {
          "output_type": "stream",
          "name": "stdout",
          "text": [
            "120\n",
            "3628800\n",
            "2432902008176640000\n",
            "30414093201713378043612608166064768844377641568960512000000000000\n"
          ]
        }
      ]
    },
    {
      "cell_type": "code",
      "source": [
        "\n",
        "#3\n",
        "def special_factorial(n):\n",
        "   if n < 0:\n",
        "       raise ValueError(\"Factorial is not defined for negative numbers\")\n",
        "   elif n == 0:\n",
        "       return 1\n",
        "   else:\n",
        "       # Use a list comprehension to generate a list of numbers from 1 to n\n",
        "       numbers = list(range(1, n + 1))\n",
        "       # Remove 4, 13, and 22 from the list if they exist\n",
        "       for num in [4, 13, 22]:\n",
        "           if num in numbers:\n",
        "               numbers.remove(num)\n",
        "       product = 1\n",
        "       for x in numbers:\n",
        "           product *= x\n",
        "       return product\n",
        "print(special_factorial(5))\n",
        "print(special_factorial(10))\n",
        "print(special_factorial(20))\n",
        "print(special_factorial(50))\n"
      ],
      "metadata": {
        "colab": {
          "base_uri": "https://localhost:8080/"
        },
        "id": "uehKwI7F1efb",
        "outputId": "c8cd933e-8ec4-48e0-c43e-3c4f40f1580e"
      },
      "execution_count": 24,
      "outputs": [
        {
          "output_type": "stream",
          "name": "stdout",
          "text": [
            "30\n",
            "907200\n",
            "46786577080320000\n",
            "26585745805693512275885146998308364374455980392448000000000000\n"
          ]
        }
      ]
    },
    {
      "cell_type": "code",
      "source": [],
      "metadata": {
        "id": "Eay9RDlI2goA"
      },
      "execution_count": null,
      "outputs": []
    }
  ]
}