{
  "nbformat": 4,
  "nbformat_minor": 0,
  "metadata": {
    "colab": {
      "provenance": [],
      "authorship_tag": "ABX9TyOHEtsYjzJIE63zTvl/wb+a",
      "include_colab_link": true
    },
    "kernelspec": {
      "name": "python3",
      "display_name": "Python 3"
    },
    "language_info": {
      "name": "python"
    }
  },
  "cells": [
    {
      "cell_type": "markdown",
      "metadata": {
        "id": "view-in-github",
        "colab_type": "text"
      },
      "source": [
        "<a href=\"https://colab.research.google.com/github/Krishbista10/CSC221_kbist001/blob/main/Assigmnent9_10.ipynb\" target=\"_parent\"><img src=\"https://colab.research.google.com/assets/colab-badge.svg\" alt=\"Open In Colab\"/></a>"
      ]
    },
    {
      "cell_type": "markdown",
      "source": [
        "1. This function, count_vowels, takes a string of text as input and returns the count of vowels (both uppercase and lowercase) present in the text. Vowels are defined as 'a', 'e', 'i', 'o', and 'u'. This function is useful for text processing tasks where you need to analyze the distribution of vowels in a given text.\n",
        "\n"
      ],
      "metadata": {
        "id": "hJFG6-lmvvda"
      }
    },
    {
      "cell_type": "code",
      "execution_count": 70,
      "metadata": {
        "id": "E5gdfvirveEN"
      },
      "outputs": [],
      "source": [
        "def count_vowels(text):\n",
        "    \"\"\"\n",
        "    Counts the number of vowels in a given text.\n",
        "\n",
        "    Parameters:\n",
        "    text (str): Input text.\n",
        "\n",
        "    Returns:\n",
        "    int: Number of vowels in the text.\n",
        "    \"\"\"\n",
        "    vowels = 'aeiouAEIOU'\n",
        "    vowel_count = 0\n",
        "    for char in text:\n",
        "        if char in vowels:\n",
        "            vowel_count += 1\n",
        "    return vowel_count\n",
        "\n"
      ]
    },
    {
      "cell_type": "code",
      "source": [
        "# Test cases\n",
        "assert count_vowels(\"Hello World\") == 3\n",
        "assert count_vowels(\"Python is awesome\") == 6\n"
      ],
      "metadata": {
        "id": "x1BUXgV6vzH8"
      },
      "execution_count": 71,
      "outputs": []
    },
    {
      "cell_type": "markdown",
      "source": [
        "2. This function finds the maximum value from a list of numbers or a variable number of arguments."
      ],
      "metadata": {
        "id": "o_oZxalDxJds"
      }
    },
    {
      "cell_type": "code",
      "source": [
        "def find_maximum(*args):\n",
        "    \"\"\"\n",
        "    Finds the maximum value from a list of numbers or a variable number of arguments.\n",
        "\n",
        "    Parameters:\n",
        "    *args (float): Variable number of arguments.\n",
        "\n",
        "    Returns:\n",
        "    float: Maximum value among the arguments.\n",
        "    \"\"\"\n",
        "    if len(args) == 0:\n",
        "        return None\n",
        "    else:\n",
        "        return max(args)\n",
        "\n",
        "\n"
      ],
      "metadata": {
        "id": "VdeQpCXtwLpY"
      },
      "execution_count": 72,
      "outputs": []
    },
    {
      "cell_type": "code",
      "source": [
        "# Test cases\n",
        "assert find_maximum(3, 7, 2, 8, 5) == 8\n",
        "assert find_maximum(10, 20, 30) == 30\n",
        "assert find_maximum() is None\n"
      ],
      "metadata": {
        "id": "WlGulyKcxakt"
      },
      "execution_count": 73,
      "outputs": []
    },
    {
      "cell_type": "markdown",
      "source": [
        "3.\n",
        "This function, named return_multiple_items, takes a list of numbers as input and returns a tuple containing two values: the sum of all the numbers in the list and the maximum number in the list. The function ensures that at least one value is returned."
      ],
      "metadata": {
        "id": "EOv9vMOGxrfm"
      }
    },
    {
      "cell_type": "code",
      "source": [
        "def return_multiple_items(num_list):\n",
        "    \"\"\"\n",
        "    This function takes a list of numbers as input and returns a tuple containing two values:\n",
        "    the sum of all the numbers in the list and the maximum number in the list.\n",
        "    The function ensures that at least one value is returned.\n",
        "\n",
        "    Parameters:\n",
        "    num_list (list of int/float): List of numbers.\n",
        "\n",
        "    Returns:\n",
        "    tuple: A tuple containing the sum of numbers and the maximum number.\n",
        "    \"\"\"\n",
        "    if not num_list:\n",
        "        return None\n",
        "    else:\n",
        "        return sum(num_list), max(num_list)\n"
      ],
      "metadata": {
        "id": "0FDH8X0qyXok"
      },
      "execution_count": 74,
      "outputs": []
    },
    {
      "cell_type": "code",
      "source": [
        "# Test cases\n",
        "assert return_multiple_items([1, 2, 3, 4, 5]) == (15, 5)\n",
        "assert return_multiple_items([10, 20, 30]) == (60, 30)\n",
        "assert return_multiple_items([-1, -2, -3, -4, -5]) == (-15, -1)\n",
        "assert return_multiple_items([]) == None\n",
        "assert return_multiple_items([5]) == (5, 5)\n",
        "assert return_multiple_items([0, 0, 0, 0]) == (0, 0)\n",
        "\n"
      ],
      "metadata": {
        "id": "skS-yhBZ0ak7"
      },
      "execution_count": 75,
      "outputs": []
    },
    {
      "cell_type": "markdown",
      "source": [
        "4. This function takes a list of numbers (integers or floats) as input and sorts them in ascending order using the built-in Python sorting algorithm. It returns a new list containing the sorted numbers."
      ],
      "metadata": {
        "id": "ZQjYqJpe2ma1"
      }
    },
    {
      "cell_type": "code",
      "source": [
        "def sort_numbers(numbers):\n",
        "    \"\"\"\n",
        "    Sorts a list of numbers in ascending order.\n",
        "\n",
        "    Parameters:\n",
        "    numbers (list of int or float): The list of numbers to be sorted.\n",
        "\n",
        "    Returns:\n",
        "    list of int or float: The sorted list of numbers.\n",
        "    \"\"\"\n",
        "    sorted_numbers = sorted(numbers)\n",
        "    return sorted_numbers\n",
        "\n"
      ],
      "metadata": {
        "id": "fY_kyFrO2oYU"
      },
      "execution_count": 76,
      "outputs": []
    },
    {
      "cell_type": "code",
      "source": [
        "# Test cases for sort_numbers function\n",
        "\n",
        "# Test case 1: Sorting a list of integers\n",
        "numbers_int = [4, 2, 7, 1, 9]\n",
        "expected_result_int = [1, 2, 4, 7, 9]\n",
        "assert sort_numbers(numbers_int) == expected_result_int, \"Test case 1 failed\"\n",
        "\n",
        "# Test case 2: Sorting a list of floats\n",
        "numbers_float = [3.14, 1.618, 2.718, 1.414]\n",
        "expected_result_float = [1.414, 1.618, 2.718, 3.14]\n",
        "assert sort_numbers(numbers_float) == expected_result_float, \"Test case 2 failed\"\n",
        "\n",
        "# Test case 3: Sorting an empty list\n",
        "empty_list = []\n",
        "assert sort_numbers(empty_list) == [], \"Test case 3 failed\"\n",
        "\n",
        "# Test case 4: Sorting a list with duplicate numbers\n",
        "numbers_dup = [5, 2, 7, 3, 2, 5]\n",
        "expected_result_dup = [2, 2, 3, 5, 5, 7]\n",
        "assert sort_numbers(numbers_dup) == expected_result_dup, \"Test case 4 failed\"\n",
        "\n",
        "\n"
      ],
      "metadata": {
        "id": "Eux5thee2sMH"
      },
      "execution_count": 77,
      "outputs": []
    },
    {
      "cell_type": "markdown",
      "source": [
        "5. This function takes a list of elements as input and counts the frequency of each element in the list. It returns a dictionary where the keys are the unique elements from the list, and the values are the frequencies of those elements in the list.\n"
      ],
      "metadata": {
        "id": "eogWSea_20vJ"
      }
    },
    {
      "cell_type": "code",
      "source": [
        "def count_elements(lst):\n",
        "    \"\"\"\n",
        "    Counts the frequency of each element in a list and returns a dictionary.\n",
        "\n",
        "    Parameters:\n",
        "    lst (list): The list of elements to count.\n",
        "\n",
        "    Returns:\n",
        "    dict: A dictionary where keys are elements from the list and values are their frequencies.\n",
        "    \"\"\"\n",
        "    element_count = {}\n",
        "    for element in lst:\n",
        "        if element in element_count:\n",
        "            element_count[element] += 1\n",
        "        else:\n",
        "            element_count[element] = 1\n",
        "    return element_count\n"
      ],
      "metadata": {
        "id": "G4_2Sjv82wIu"
      },
      "execution_count": 78,
      "outputs": []
    },
    {
      "cell_type": "code",
      "source": [
        "# Test cases for count_elements function\n",
        "\n",
        "# Test case 1: Counting elements in a list of integers\n",
        "lst_int = [1, 2, 3, 4, 1, 2, 1, 3]\n",
        "expected_result_int = {1: 3, 2: 2, 3: 2, 4: 1}\n",
        "assert count_elements(lst_int) == expected_result_int, \"Test case 1 failed\"\n",
        "\n",
        "# Test case 2: Counting elements in a list of strings\n",
        "lst_str = ['apple', 'banana', 'apple', 'orange', 'banana', 'apple']\n",
        "expected_result_str = {'apple': 3, 'banana': 2, 'orange': 1}\n",
        "assert count_elements(lst_str) == expected_result_str, \"Test case 2 failed\"\n",
        "\n",
        "# Test case 3: Counting elements in an empty list\n",
        "empty_lst = []\n",
        "assert count_elements(empty_lst) == {}, \"Test case 3 failed\"\n",
        "\n",
        "# Test case 4: Counting elements in a list with duplicate elements\n",
        "lst_dup = [1, 2, 2, 3, 3, 3, 4, 4, 4, 4]\n",
        "expected_result_dup = {1: 1, 2: 2, 3: 3, 4: 4}\n",
        "assert count_elements(lst_dup) == expected_result_dup, \"Test case 4 failed\"\n",
        "\n",
        "\n"
      ],
      "metadata": {
        "id": "_MucLbyG3HFV"
      },
      "execution_count": 79,
      "outputs": []
    },
    {
      "cell_type": "markdown",
      "source": [
        "6. The purpose of this function is to solve a puzzle by guessing and checking. The puzzle could be any problem that can be solved iteratively by trying different solutions until a correct one is found. The function will implement a guessing strategy and check if the guessed solution is correct. If it's not correct, it will adjust the guess and try again until a correct solution is found."
      ],
      "metadata": {
        "id": "dOY60UXq-W0n"
      }
    },
    {
      "cell_type": "code",
      "source": [
        "def solve_puzzle(guess_function, check_function, max_attempts=1000):\n",
        "    \"\"\"\n",
        "\n",
        "\n",
        "    Parameters:\n",
        "    guess_function (function): A function that generates guesses.\n",
        "    check_function (function): A function that checks if a guess is correct.\n",
        "    max_attempts (int): Maximum number of attempts to find the solution. Default is 1000.\n",
        "\n",
        "    Returns:\n",
        "    tuple: A tuple containing two elements:\n",
        "           - The correct solution if found\n",
        "           - Number of attempts made to find the solution\n",
        "    \"\"\"\n",
        "    attempts = 0\n",
        "    while attempts < max_attempts:\n",
        "        guess = guess_function()\n",
        "        if check_function(guess):\n",
        "            return guess, attempts + 1\n",
        "        attempts += 1\n",
        "    return None, max_attempts\n",
        "\n",
        "\n",
        "def generate_guess():\n",
        "\n",
        "    import random\n",
        "    return random.randint(1, 100)\n",
        "\n",
        "\n",
        "def check_guess(guess):\n",
        "    target = 42\n",
        "    return guess == target\n",
        "\n",
        "# Solving the puzzle\n",
        "solution, attempts = solve_puzzle(generate_guess, check_guess)\n",
        "if solution is not None:\n",
        "    print(\"Solution found:\", solution)\n",
        "    print(\"Attempts made:\", attempts)\n",
        "else:\n",
        "    print(\"Unable to find solution within maximum attempts.\")\n"
      ],
      "metadata": {
        "colab": {
          "base_uri": "https://localhost:8080/"
        },
        "id": "2zoRPbie9k6u",
        "outputId": "565d42db-368f-486e-bc97-c9f720f6eba1"
      },
      "execution_count": 80,
      "outputs": [
        {
          "output_type": "stream",
          "name": "stdout",
          "text": [
            "Solution found: 42\n",
            "Attempts made: 184\n"
          ]
        }
      ]
    },
    {
      "cell_type": "code",
      "source": [
        "# Test cases\n",
        "def test_solve_puzzle():\n",
        "    # Define a fixed guess function\n",
        "    def fixed_guess():\n",
        "        return 42\n",
        "\n",
        "    # Define a fixed check function\n",
        "    def fixed_check(guess):\n",
        "        return guess == 42\n",
        "\n",
        "    # Test with known solution\n",
        "    solution, attempts = solve_puzzle(fixed_guess, fixed_check)\n",
        "    assert solution == 42\n",
        "    assert attempts == 1\n",
        "\n",
        "    # Test with no solution\n",
        "    def always_wrong_guess():\n",
        "        return 0\n",
        "\n",
        "    solution, attempts = solve_puzzle(always_wrong_guess, fixed_check, max_attempts=3)\n",
        "    assert solution is None\n",
        "    assert attempts == 3\n",
        "\n",
        "test_solve_puzzle()\n"
      ],
      "metadata": {
        "id": "BY4cTZ1y-pSU"
      },
      "execution_count": 81,
      "outputs": []
    },
    {
      "cell_type": "markdown",
      "source": [
        "7. This function performs a tricky mathematical computation using a combination of mathematical operations. The goal of the function is to take a list of numbers as input, compute a specific mathematical operation on each number, and return the result."
      ],
      "metadata": {
        "id": "yg6fE-ES-6vU"
      }
    },
    {
      "cell_type": "code",
      "source": [
        "def tricky_math_computation(numbers):\n",
        "    \"\"\"\n",
        "    Performs a tricky mathematical computation on a list of numbers.\n",
        "\n",
        "    Args:\n",
        "    numbers (list): A list of numbers.\n",
        "\n",
        "    Returns:\n",
        "    float: The result of the computation.\n",
        "    \"\"\"\n",
        "\n",
        "    squared_numbers = [num ** 2 for num in numbers]\n",
        "\n",
        "\n",
        "    sum_of_squared_numbers = sum(squared_numbers)\n",
        "    result = sum_of_squared_numbers ** 0.5\n",
        "\n",
        "    return result\n"
      ],
      "metadata": {
        "id": "mdl6H440_Mo-"
      },
      "execution_count": 82,
      "outputs": []
    },
    {
      "cell_type": "code",
      "source": [
        "# Test cases\n",
        "# Test case 1: Positive numbers\n",
        "numbers_1 = [1, 2, 3, 4, 5]\n",
        "assert tricky_math_computation(numbers_1) == 7.416198487095663\n",
        "\n",
        "# Test case 2: Negative numbers\n",
        "numbers_2 = [-1, -2, -3, -4, -5]\n",
        "assert tricky_math_computation(numbers_2) == 7.416198487095663\n",
        "\n",
        "# Test case 3: Mixed numbers\n",
        "numbers_3 = [1, -2, 3, -4, 5]\n",
        "assert tricky_math_computation(numbers_3) == 7.416198487095663\n",
        "\n",
        "# Test case 4: Empty list\n",
        "assert tricky_math_computation([]) == 0.0\n",
        "\n"
      ],
      "metadata": {
        "id": "bm9VSlRa_nQ0"
      },
      "execution_count": 83,
      "outputs": []
    },
    {
      "cell_type": "markdown",
      "source": [
        "8. This function is inspired by a common problem in algebra: finding the roots of a quadratic equation."
      ],
      "metadata": {
        "id": "lVYE0nVG_vK7"
      }
    },
    {
      "cell_type": "code",
      "source": [
        "import cmath\n",
        "\n",
        "def quadratic_roots(a, b, c):\n",
        "    \"\"\"\n",
        "    Computing the roots of a quadratic equation.\n",
        "\n",
        "    Parameters:\n",
        "    a (float): Coefficient of x^2.\n",
        "    b (float): Coefficient of x.\n",
        "    c (float): Constant term.\n",
        "\n",
        "    Returns:\n",
        "    tuple: A tuple containing the roots of the quadratic equation.\n",
        "    If the equation has complex roots, returns None.\n",
        "    \"\"\"\n",
        "\n",
        "    if a == 0:\n",
        "\n",
        "        root = -c / b\n",
        "        return (root,)\n",
        "\n",
        "\n",
        "    discriminant = b**2 - 4*a*c\n",
        "\n",
        "\n",
        "    if discriminant < 0:\n",
        "        return None\n",
        "    else:\n",
        "\n",
        "        root1 = (-b + cmath.sqrt(discriminant)) / (2*a)\n",
        "        root2 = (-b - cmath.sqrt(discriminant)) / (2*a)\n",
        "        return root1, root2\n"
      ],
      "metadata": {
        "id": "PgBt2pLA_ouy"
      },
      "execution_count": 84,
      "outputs": []
    },
    {
      "cell_type": "code",
      "source": [
        "# Test cases\n",
        "def test_quadratic_roots():\n",
        "    # Test with real roots\n",
        "    roots = quadratic_roots(1, -3, 2)\n",
        "    assert roots == (2.0, 1.0), \"Test case 1 failed\"\n",
        "\n",
        "    # Test with complex roots\n",
        "    roots = quadratic_roots(1, 2, 5)\n",
        "    assert roots is None, \"Test case 2 failed\"\n",
        "\n",
        "    # Test with zero 'a' coefficient\n",
        "    roots = quadratic_roots(0, 2, 1)\n",
        "    assert roots == (-0.5,), \"Test case 3 failed\"\n",
        "\n",
        "\n",
        "\n",
        "test_quadratic_roots()\n"
      ],
      "metadata": {
        "id": "ydgYVnH1AUDU"
      },
      "execution_count": 85,
      "outputs": []
    },
    {
      "cell_type": "markdown",
      "source": [
        "9. This function, named statistics_solver, is designed to solve various statistical questions. It can handle tasks such as calculating mean, median, mode, standard deviation, variance, and performing basic statistical operations on a given dataset. The function is versatile and can accommodate both numerical and categorical data. It takes in a list of numbers or a list of strings (for categorical data) as input and returns the requested statistical measure or operation."
      ],
      "metadata": {
        "id": "9sM-YwlfAxjA"
      }
    },
    {
      "cell_type": "markdown",
      "source": [],
      "metadata": {
        "id": "3qQKTjUbBPRT"
      }
    },
    {
      "cell_type": "code",
      "source": [
        "def statistics_solver(data, operation):\n",
        "    \"\"\"\n",
        "    A function to solve statistical questions.\n",
        "\n",
        "    Parameters:\n",
        "    - data: List of numerical or categorical data.\n",
        "    - operation: String indicating the statistical operation to be performed.\n",
        "                 Options: 'mean', 'median', 'mode', 'standard deviation', 'variance'.\n",
        "\n",
        "    Returns:\n",
        "    - The result of the requested statistical operation.\n",
        "    \"\"\"\n",
        "\n",
        "    if not all(isinstance(item, (int, float)) for item in data):\n",
        "        if operation in ['mean', 'median', 'standard deviation', 'variance']:\n",
        "            return None\n",
        "    if operation == 'mean':\n",
        "        return sum(data) / len(data)\n",
        "    elif operation == 'median':\n",
        "        sorted_data = sorted(data)\n",
        "        n = len(sorted_data)\n",
        "        if n % 2 == 0:\n",
        "            return (sorted_data[n//2 - 1] + sorted_data[n//2]) / 2\n",
        "        else:\n",
        "            return sorted_data[n//2]\n",
        "    elif operation == 'mode':\n",
        "        if all(data.count(item) == 1 for item in data):\n",
        "            return None\n",
        "        frequency = {}\n",
        "        for item in data:\n",
        "            frequency[item] = frequency.get(item, 0) + 1\n",
        "        mode = max(frequency, key=frequency.get)\n",
        "        return mode\n",
        "    elif operation == 'standard deviation':\n",
        "        mean = sum(data) / len(data)\n",
        "        variance = sum((x - mean) ** 2 for x in data) / len(data)\n",
        "        return variance ** 0.5\n",
        "    elif operation == 'variance':\n",
        "        mean = sum(data) / len(data)\n",
        "        variance = sum((x - mean) ** 2 for x in data) / len(data)\n",
        "        return variance\n",
        "    else:\n",
        "        return \"Invalid operation. Please choose from 'mean', 'median', 'mode', 'standard deviation', 'variance'.\"\n"
      ],
      "metadata": {
        "id": "SCF-QRgHB10T"
      },
      "execution_count": 86,
      "outputs": []
    },
    {
      "cell_type": "code",
      "source": [
        "# Test Cases\n",
        "data_numerical = [1, 2, 3, 4, 5]\n",
        "data_categorical = ['apple', 'banana', 'apple', 'orange', 'banana']\n",
        "\n",
        "# Test mean calculation\n",
        "assert statistics_solver(data_numerical, 'mean') == 3.0\n",
        "assert statistics_solver(data_categorical, 'mean') == None\n",
        "\n",
        "# Test median calculation\n",
        "assert statistics_solver(data_numerical, 'median') == 3\n",
        "assert statistics_solver(data_categorical, 'median') == None\n",
        "\n",
        "# Test mode calculation\n",
        "assert statistics_solver(data_numerical, 'mode') == None\n",
        "assert statistics_solver(data_categorical, 'mode') == 'apple'\n",
        "\n",
        "# Test standard deviation calculation\n",
        "assert statistics_solver(data_numerical, 'standard deviation') == 1.4142135623730951\n",
        "assert statistics_solver(data_categorical, 'standard deviation') == None\n",
        "\n",
        "# Test variance calculation\n",
        "assert statistics_solver(data_numerical, 'variance') == 2.0\n",
        "assert statistics_solver(data_categorical, 'variance') == None\n",
        "\n",
        "\n"
      ],
      "metadata": {
        "id": "wQ9A2kBZB_lB"
      },
      "execution_count": 87,
      "outputs": []
    },
    {
      "cell_type": "markdown",
      "source": [
        "10.  This function, show_grocery_list, is designed to display a grocery list. It takes a dictionary representing the grocery list as input, where the keys are items and the values are quantities. The function will print out each item along with its corresponding quantity in a readable format."
      ],
      "metadata": {
        "id": "eka1egwYCPk5"
      }
    },
    {
      "cell_type": "code",
      "source": [
        "def show_grocery_list(grocery_dict):\n",
        "    \"\"\"\n",
        "    Displays the grocery list.\n",
        "\n",
        "    Args:\n",
        "    - grocery_dict (dict): A dictionary representing the grocery list where keys are items and values are quantities.\n",
        "\n",
        "    Returns:\n",
        "    - None\n",
        "\n",
        "    Prints:\n",
        "    - The grocery list with items and quantities.\n",
        "    \"\"\"\n",
        "    # Check if the input is a dictionary\n",
        "    if not isinstance(grocery_dict, dict):\n",
        "        print(\"Error: Input should be a dictionary.\")\n",
        "        return\n",
        "\n",
        "    # Check if the dictionary is empty\n",
        "    if not grocery_dict:\n",
        "        print(\"The grocery list is empty.\")\n",
        "        return\n",
        "\n",
        "    print(\"Grocery List:\")\n",
        "    print(\"--------------------------\")\n",
        "    for item, quantity in grocery_dict.items():\n",
        "        print(f\"{item}: {quantity}\")\n",
        "    print(\"--------------------------\")\n"
      ],
      "metadata": {
        "id": "oILj_LV9D4_W"
      },
      "execution_count": 88,
      "outputs": []
    },
    {
      "cell_type": "code",
      "source": [
        "# Test cases\n",
        "\n",
        "# Test with a non-empty grocery list\n",
        "grocery_list = {'Apples': 3, 'Bananas': 5, 'Milk': 2, 'Eggs': 12}\n",
        "show_grocery_list(grocery_list)\n",
        "assert show_grocery_list(grocery_list) == None\n",
        "\n",
        "# Test with an empty grocery list\n",
        "empty_grocery_list = {}\n",
        "show_grocery_list(empty_grocery_list)\n",
        "assert show_grocery_list(empty_grocery_list) == None\n",
        "\n",
        "# Test with a non-dictionary input\n",
        "non_dict_input = [1, 2, 3]\n",
        "show_grocery_list(non_dict_input)\n",
        "assert show_grocery_list(non_dict_input) == None\n"
      ],
      "metadata": {
        "colab": {
          "base_uri": "https://localhost:8080/"
        },
        "id": "hRZybrjaEL3I",
        "outputId": "5ba8335c-9f52-48e5-b501-b6a1ff68e9d8"
      },
      "execution_count": 89,
      "outputs": [
        {
          "output_type": "stream",
          "name": "stdout",
          "text": [
            "Grocery List:\n",
            "--------------------------\n",
            "Apples: 3\n",
            "Bananas: 5\n",
            "Milk: 2\n",
            "Eggs: 12\n",
            "--------------------------\n",
            "Grocery List:\n",
            "--------------------------\n",
            "Apples: 3\n",
            "Bananas: 5\n",
            "Milk: 2\n",
            "Eggs: 12\n",
            "--------------------------\n",
            "The grocery list is empty.\n",
            "The grocery list is empty.\n",
            "Error: Input should be a dictionary.\n",
            "Error: Input should be a dictionary.\n"
          ]
        }
      ]
    },
    {
      "cell_type": "code",
      "source": [],
      "metadata": {
        "id": "djU4ndq8EN4R"
      },
      "execution_count": 89,
      "outputs": []
    }
  ]
}