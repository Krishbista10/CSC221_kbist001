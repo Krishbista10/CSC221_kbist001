{
  "nbformat": 4,
  "nbformat_minor": 0,
  "metadata": {
    "colab": {
      "provenance": [],
      "authorship_tag": "ABX9TyO0DjnKWtzpaS3FpwqKZRDX",
      "include_colab_link": true
    },
    "kernelspec": {
      "name": "python3",
      "display_name": "Python 3"
    },
    "language_info": {
      "name": "python"
    }
  },
  "cells": [
    {
      "cell_type": "markdown",
      "metadata": {
        "id": "view-in-github",
        "colab_type": "text"
      },
      "source": [
        "<a href=\"https://colab.research.google.com/github/Krishbista10/CSC221_kbist001/blob/main/Asssignment_7.ipynb\" target=\"_parent\"><img src=\"https://colab.research.google.com/assets/colab-badge.svg\" alt=\"Open In Colab\"/></a>"
      ]
    },
    {
      "cell_type": "code",
      "source": [
        "#TIY 6-1\n",
        "person = {\n",
        "    \"first_name\" : \"Krishav\",\n",
        "    \"last_name\": \"Bista\",\n",
        "    \"age\" : \"17\",\n",
        "    \"city\" : \"Kathmandu\"\n",
        "    }\n",
        "print(\"The first name is\", person[\"first_name\"])\n",
        "print(\"The last name is\", person[\"last_name\"])\n",
        "print(\"He is\", person[\"age\"])\n",
        "print(\"He is from\", person[\"city\"])\n"
      ],
      "metadata": {
        "colab": {
          "base_uri": "https://localhost:8080/"
        },
        "id": "u3AwiU8ct3kb",
        "outputId": "e888fa6a-7747-4c5e-8a23-5708c79ffc6b"
      },
      "execution_count": 13,
      "outputs": [
        {
          "output_type": "stream",
          "name": "stdout",
          "text": [
            "The first name is Krishav\n",
            "The last name is Bista\n",
            "He is 17\n",
            "he is from Kathmandu\n"
          ]
        }
      ]
    },
    {
      "cell_type": "code",
      "source": [
        "\n",
        "# TIY 6-2:\n",
        "\n",
        "favourite_numbers = {\n",
        "    \"Ashik\" : 7 ,\n",
        "    \"Arpan\" : 10 ,\n",
        "    \"Earik\" : 9 ,\n",
        "    \"Krishav\" : 6 ,\n",
        "    \"Sujen\" : 8\n",
        "        }\n",
        "\n",
        "for people, number in favourite_numbers.items():\n",
        "  print(f\"{people}'s favourite number is {number}.\")"
      ],
      "metadata": {
        "colab": {
          "base_uri": "https://localhost:8080/"
        },
        "id": "O_S4BUcEvim2",
        "outputId": "f12ba3ca-f944-487d-aa26-9aee71cb3af9"
      },
      "execution_count": 14,
      "outputs": [
        {
          "output_type": "stream",
          "name": "stdout",
          "text": [
            "Ashik's favourite number is 7.\n",
            "Arpan's favourite number is 10.\n",
            "Earik's favourite number is 9.\n",
            "Krishav's favourite number is 6.\n",
            "Sujen's favourite number is 8.\n"
          ]
        }
      ]
    },
    {
      "cell_type": "code",
      "source": [
        "\n",
        "#TIY 6-3\n",
        "glossary = {\n",
        "     \"del\": \"A keyword used in Python to delete elements from a list or dictionary.\",\n",
        "    \".upper\": \"A string method in Python that converts all characters in a string to uppercase.\",\n",
        "    \".title\": \"A string method in Python that converts the first character of each word to uppercase.\",\n",
        "    \".lower\": \"A string method in Python that converts all characters in a string to lowercase.\",\n",
        "    \"input\": \"A function in Python used to accept input from the user.\"\n",
        "\n",
        "}\n",
        "\n",
        "print(\"These are the programing words:\\n\")\n",
        "for words, meaning in glossary.items():\n",
        "  print (f\"{words} : {meaning}\\n\")\n",
        "\n",
        ""
      ],
      "metadata": {
        "colab": {
          "base_uri": "https://localhost:8080/"
        },
        "id": "PhgCQ-6MxbVM",
        "outputId": "d4719e31-47db-4e60-da78-88669fd18cb5"
      },
      "execution_count": 21,
      "outputs": [
        {
          "output_type": "stream",
          "name": "stdout",
          "text": [
            "These are the programing words:\n",
            "\n",
            "del : A keyword used in Python to delete elements from a list or dictionary.\n",
            "\n",
            ".upper : A string method in Python that converts all characters in a string to uppercase.\n",
            "\n",
            ".title : A string method in Python that converts the first character of each word to uppercase.\n",
            "\n",
            ".lower : A string method in Python that converts all characters in a string to lowercase.\n",
            "\n",
            "input : A function in Python used to accept input from the user.\n",
            "\n"
          ]
        }
      ]
    },
    {
      "cell_type": "code",
      "source": [
        "#TIY 6-4\n",
        "\n",
        "\n",
        "# Initial glossary\n",
        "glossary = {\n",
        "    \"del\": \"A keyword used in Python to delete elements from a list or dictionary.\",\n",
        "    \".upper\": \"A string method in Python that converts all characters in a string to uppercase.\",\n",
        "    \".title\": \"A string method in Python that converts the first character of each word to uppercase.\",\n",
        "    \".lower\": \"A string method in Python that converts all characters in a string to lowercase.\",\n",
        "    \"input\": \"A function in Python used to accept input from the user.\"\n",
        "}\n",
        "\n",
        "print(\"Initial glossary:\")\n",
        "for word, meaning in glossary.items():\n",
        "    print(f\"{word}: {meaning}\")\n",
        "\n",
        "glossary.update({\n",
        "    \"print\": \"A function in Python used to display output.\",\n",
        "    \"int\": \"A data type in Python representing integers.\",\n",
        "    \"float\": \"A data type in Python representing floating-point numbers.\",\n",
        "    \"list\": \"A data structure in Python used to store a collection of items.\",\n",
        "    \"tuple\": \"A data structure in Python similar to a list, but immutable.\"\n",
        "})\n",
        "\n",
        "print(\"\\nUpdated glossary:\")\n",
        "for word, meaning in glossary.items():\n",
        "    print(f\"{word}: {meaning}\")\n"
      ],
      "metadata": {
        "colab": {
          "base_uri": "https://localhost:8080/"
        },
        "id": "6MRNJlLHz_Cc",
        "outputId": "ee2f56db-662b-4e35-ae02-913e010c29b7"
      },
      "execution_count": 22,
      "outputs": [
        {
          "output_type": "stream",
          "name": "stdout",
          "text": [
            "Initial glossary:\n",
            "del: A keyword used in Python to delete elements from a list or dictionary.\n",
            ".upper: A string method in Python that converts all characters in a string to uppercase.\n",
            ".title: A string method in Python that converts the first character of each word to uppercase.\n",
            ".lower: A string method in Python that converts all characters in a string to lowercase.\n",
            "input: A function in Python used to accept input from the user.\n",
            "\n",
            "Updated glossary:\n",
            "del: A keyword used in Python to delete elements from a list or dictionary.\n",
            ".upper: A string method in Python that converts all characters in a string to uppercase.\n",
            ".title: A string method in Python that converts the first character of each word to uppercase.\n",
            ".lower: A string method in Python that converts all characters in a string to lowercase.\n",
            "input: A function in Python used to accept input from the user.\n",
            "print: A function in Python used to display output.\n",
            "int: A data type in Python representing integers.\n",
            "float: A data type in Python representing floating-point numbers.\n",
            "list: A data structure in Python used to store a collection of items.\n",
            "tuple: A data structure in Python similar to a list, but immutable.\n"
          ]
        }
      ]
    },
    {
      "cell_type": "code",
      "source": [
        "#TIY 6-11\n",
        "\n",
        "cities = {\n",
        "    \"Tokyo\": {\n",
        "        \"country\": \"Japan\",\n",
        "        \"population\": \"approximately 14 million\",\n",
        "        \"fact\": \"Tokyo is the most populous metropolitan area in the world.\"\n",
        "    },\n",
        "    \"New York City\": {\n",
        "        \"country\": \"United States\",\n",
        "        \"population\": \"approximately 8.4 million\",\n",
        "        \"fact\": \"New York City is known as the cultural and financial capital of the world.\"\n",
        "    },\n",
        "    \"London\": {\n",
        "        \"country\": \"United Kingdom\",\n",
        "        \"population\": \"approximately 8.9 million\",\n",
        "        \"fact\": \"London is one of the most diverse cities in the world.\"\n",
        "    }\n",
        "}\n",
        "\n",
        "for city, info in cities.items():\n",
        "    print(f\"\\nCity: {city}\")\n",
        "    print(f\"\\tCountry: {info['country']}\")\n",
        "    print(f\"\\tPopulation: {info['population']}\")\n",
        "    print(f\"\\tFact: {info['fact']}\")\n"
      ],
      "metadata": {
        "colab": {
          "base_uri": "https://localhost:8080/"
        },
        "id": "_Pv9BGqQ0Ryd",
        "outputId": "f7b3515c-313b-46b0-c716-e10811ef9a8e"
      },
      "execution_count": 23,
      "outputs": [
        {
          "output_type": "stream",
          "name": "stdout",
          "text": [
            "\n",
            "City: Tokyo\n",
            "\tCountry: Japan\n",
            "\tPopulation: approximately 14 million\n",
            "\tFact: Tokyo is the most populous metropolitan area in the world.\n",
            "\n",
            "City: New York City\n",
            "\tCountry: United States\n",
            "\tPopulation: approximately 8.4 million\n",
            "\tFact: New York City is known as the cultural and financial capital of the world.\n",
            "\n",
            "City: London\n",
            "\tCountry: United Kingdom\n",
            "\tPopulation: approximately 8.9 million\n",
            "\tFact: London is one of the most diverse cities in the world.\n"
          ]
        }
      ]
    },
    {
      "cell_type": "code",
      "source": [
        "%%file grading.txt\n",
        "sushila, 36\n",
        "samjhana, 50\n",
        "radhika, 30\n",
        "sunita, 37\n",
        "ritu, 31\n",
        "bandana, 33\n",
        "shreya, 19\n"
      ],
      "metadata": {
        "colab": {
          "base_uri": "https://localhost:8080/"
        },
        "id": "JTO5Fois0xF8",
        "outputId": "8a924fe2-1688-433d-f4ff-41d0e067f1d0"
      },
      "execution_count": 26,
      "outputs": [
        {
          "output_type": "stream",
          "name": "stdout",
          "text": [
            "Overwriting grading.txt\n"
          ]
        }
      ]
    },
    {
      "cell_type": "code",
      "source": [
        "#Reading\n",
        "grade_dict = {}\n",
        "with open(\"grading.txt\", \"r\") as file:\n",
        "    for line in file:\n",
        "        name, grade = line.strip().split(\", \")\n",
        "        grade_dict[name] = int(grade)\n",
        "\n",
        "print(\"Dictionary sorted by names alphabetically:\")\n",
        "for name in sorted(grade_dict.keys()):\n",
        "    print(f\"{name}: {grade_dict[name]}\")\n",
        "\n",
        "print(\"\\nDictionary sorted by grades from highest to lowest:\")\n",
        "for name, grade in sorted(grade_dict.items(), key=lambda item: item[1], reverse=True):\n",
        "    print(f\"{name}: {grade}\")\n"
      ],
      "metadata": {
        "colab": {
          "base_uri": "https://localhost:8080/"
        },
        "id": "L_NkXH2B1Lld",
        "outputId": "35100990-aa06-48f2-d9a6-e5b7fc204dcd"
      },
      "execution_count": 27,
      "outputs": [
        {
          "output_type": "stream",
          "name": "stdout",
          "text": [
            "Dictionary sorted by names alphabetically:\n",
            "bandana: 33\n",
            "radhika: 30\n",
            "ritu: 31\n",
            "samjhana: 50\n",
            "shreya: 19\n",
            "sunita: 37\n",
            "sushila: 36\n",
            "\n",
            "Dictionary sorted by grades from highest to lowest:\n",
            "samjhana: 50\n",
            "sunita: 37\n",
            "sushila: 36\n",
            "bandana: 33\n",
            "ritu: 31\n",
            "radhika: 30\n",
            "shreya: 19\n"
          ]
        }
      ]
    }
  ]
}