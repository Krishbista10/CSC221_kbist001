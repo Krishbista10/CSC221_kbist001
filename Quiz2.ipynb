{
  "nbformat": 4,
  "nbformat_minor": 0,
  "metadata": {
    "colab": {
      "provenance": [],
      "authorship_tag": "ABX9TyMy6dhFX0g9b2433N2PLr+Y",
      "include_colab_link": true
    },
    "kernelspec": {
      "name": "python3",
      "display_name": "Python 3"
    },
    "language_info": {
      "name": "python"
    }
  },
  "cells": [
    {
      "cell_type": "markdown",
      "metadata": {
        "id": "view-in-github",
        "colab_type": "text"
      },
      "source": [
        "<a href=\"https://colab.research.google.com/github/Krishbista10/CSC221_kbist001/blob/main/Quiz2.ipynb\" target=\"_parent\"><img src=\"https://colab.research.google.com/assets/colab-badge.svg\" alt=\"Open In Colab\"/></a>"
      ]
    },
    {
      "cell_type": "code",
      "execution_count": null,
      "metadata": {
        "id": "jtgTBsy8JH4O"
      },
      "outputs": [],
      "source": [
        "#1). None\n",
        "x = None\n",
        "\n",
        "if x is None:\n",
        "    print(\"x is None\")\n",
        "else:\n",
        "    print(f\"x is not None, its value is {x}\")\n",
        "\n",
        "x = 5\n",
        "\n",
        "if x is not None:\n",
        "    print(f\"x is not None, its value is {x}\")\n"
      ]
    },
    {
      "cell_type": "code",
      "source": [
        "#2). If\n",
        "#I am trying to write a simple code telling what category do people fall based on their age\n",
        "age = 20\n",
        "\n",
        "if age < 18:\n",
        "    print(\"You are a minor.\")\n",
        "\n",
        "if age >= 18 and age < 65:\n",
        "    print(\"You are an adult.\")\n",
        "\n",
        "if age >= 65:\n",
        "    print(\"You are a senior citizen.\")"
      ],
      "metadata": {
        "colab": {
          "base_uri": "https://localhost:8080/"
        },
        "id": "nv2MzBaHJfoE",
        "outputId": "20cf9ee1-0975-4145-aa02-f1f29c9e016f"
      },
      "execution_count": null,
      "outputs": [
        {
          "output_type": "stream",
          "name": "stdout",
          "text": [
            "You are an adult.\n"
          ]
        }
      ]
    },
    {
      "cell_type": "code",
      "source": [
        "#3). break\n",
        "numbers = [1, 2, 3, 4, 5, 6, 7, 8, 9, 10]\n",
        "\n",
        "for num in numbers:\n",
        "    if num == 5:\n",
        "        break\n",
        "    print(num)"
      ],
      "metadata": {
        "colab": {
          "base_uri": "https://localhost:8080/"
        },
        "id": "2OrvsCBLK7--",
        "outputId": "9f0b3646-9687-4a0e-d81b-ad258c924da6"
      },
      "execution_count": null,
      "outputs": [
        {
          "output_type": "stream",
          "name": "stdout",
          "text": [
            "1\n",
            "2\n",
            "3\n",
            "4\n"
          ]
        }
      ]
    },
    {
      "cell_type": "code",
      "source": [
        "#4).except\n",
        "try:\n",
        "    x = int(input(\"Enter a number: \"))\n",
        "    result = 10 / x\n",
        "    print(f\"The result is: {result}\")\n",
        "except ValueError:\n",
        "    print(\"Invalid input! Please enter a number.\")\n",
        "except ZeroDivisionError:\n",
        "    print(\"Cannot divide by zero.\")"
      ],
      "metadata": {
        "colab": {
          "base_uri": "https://localhost:8080/"
        },
        "id": "ZsKNLN07LSxR",
        "outputId": "ad84830e-3bc1-4180-e22f-3f1402d17faf"
      },
      "execution_count": null,
      "outputs": [
        {
          "output_type": "stream",
          "name": "stdout",
          "text": [
            "Enter a number: 0\n",
            "Cannot divide by zero.\n"
          ]
        }
      ]
    },
    {
      "cell_type": "code",
      "source": [
        "#5).in\n",
        "fruits = [\"apple\", \"banana\", \"orange\", \"kiwi\"]\n",
        "\n",
        "if \"apple\" in fruits:\n",
        "    print(\"Apple is in the list.\")\n",
        "\n",
        "if \"grape\" not in fruits:\n",
        "    print(\"Grape is not in the list.\")\n",
        "\n",
        "for fruit in fruits:\n",
        "    print(fruit)"
      ],
      "metadata": {
        "colab": {
          "base_uri": "https://localhost:8080/"
        },
        "id": "thRwhFfyLgro",
        "outputId": "18abda1a-04e0-45ba-d258-72eedd2c05e1"
      },
      "execution_count": null,
      "outputs": [
        {
          "output_type": "stream",
          "name": "stdout",
          "text": [
            "Apple is in the list.\n",
            "Grape is not in the list.\n",
            "apple\n",
            "banana\n",
            "orange\n",
            "kiwi\n"
          ]
        }
      ]
    },
    {
      "cell_type": "code",
      "source": [
        "#6).raise\n",
        "def divide_numbers(a, b):\n",
        "    if b == 0:\n",
        "        raise ZeroDivisionError(\"Cannot divide by zero!\")\n",
        "    result = a / b\n",
        "    return result\n",
        "\n",
        "try:\n",
        "    result = divide_numbers(10, 2)\n",
        "    print(f\"The result is: {result}\")\n",
        "\n",
        "    result = divide_numbers(10, 0)\n",
        "    print(f\"The result is: {result}\")\n",
        "except ZeroDivisionError as e:\n",
        "    print(e)"
      ],
      "metadata": {
        "colab": {
          "base_uri": "https://localhost:8080/"
        },
        "id": "lvBLLELHLw4o",
        "outputId": "980c315c-b755-4481-8f02-b4cc94276d6b"
      },
      "execution_count": null,
      "outputs": [
        {
          "output_type": "stream",
          "name": "stdout",
          "text": [
            "The result is: 5.0\n",
            "Cannot divide by zero!\n"
          ]
        }
      ]
    },
    {
      "cell_type": "code",
      "source": [
        "#7).False\n",
        "#This one's my favourite and is as simple as it looks\n",
        "a = 10\n",
        "b = 20\n",
        "a > b\n"
      ],
      "metadata": {
        "colab": {
          "base_uri": "https://localhost:8080/"
        },
        "id": "tpezdzHPMJ1V",
        "outputId": "d8d58500-6005-4315-9a8f-0d38dea1fb51"
      },
      "execution_count": null,
      "outputs": [
        {
          "output_type": "execute_result",
          "data": {
            "text/plain": [
              "False"
            ]
          },
          "metadata": {},
          "execution_count": 8
        }
      ]
    },
    {
      "cell_type": "code",
      "source": [
        "#8).await\n",
        "import asyncio\n",
        "\n",
        "async def hello():\n",
        "    print(\"Hello\")\n",
        "    await asyncio.sleep(1)  # Pause for 1 second\n",
        "    print(\"World\")\n",
        "\n",
        "async def main():\n",
        "    await hello()\n",
        "\n",
        "asyncio.run(main())"
      ],
      "metadata": {
        "id": "SYq-9lS7OEgp",
        "colab": {
          "base_uri": "https://localhost:8080/",
          "height": 297
        },
        "outputId": "3e6ea53f-610e-4386-de7b-7c09ffb6d34e"
      },
      "execution_count": 64,
      "outputs": [
        {
          "output_type": "error",
          "ename": "RuntimeError",
          "evalue": "asyncio.run() cannot be called from a running event loop",
          "traceback": [
            "\u001b[0;31m---------------------------------------------------------------------------\u001b[0m",
            "\u001b[0;31mRuntimeError\u001b[0m                              Traceback (most recent call last)",
            "\u001b[0;32m<ipython-input-64-9f14059363fd>\u001b[0m in \u001b[0;36m<cell line: 12>\u001b[0;34m()\u001b[0m\n\u001b[1;32m     10\u001b[0m     \u001b[0;32mawait\u001b[0m \u001b[0mhello\u001b[0m\u001b[0;34m(\u001b[0m\u001b[0;34m)\u001b[0m\u001b[0;34m\u001b[0m\u001b[0;34m\u001b[0m\u001b[0m\n\u001b[1;32m     11\u001b[0m \u001b[0;34m\u001b[0m\u001b[0m\n\u001b[0;32m---> 12\u001b[0;31m \u001b[0masyncio\u001b[0m\u001b[0;34m.\u001b[0m\u001b[0mrun\u001b[0m\u001b[0;34m(\u001b[0m\u001b[0mmain\u001b[0m\u001b[0;34m(\u001b[0m\u001b[0;34m)\u001b[0m\u001b[0;34m)\u001b[0m\u001b[0;34m\u001b[0m\u001b[0;34m\u001b[0m\u001b[0m\n\u001b[0m",
            "\u001b[0;32m/usr/lib/python3.10/asyncio/runners.py\u001b[0m in \u001b[0;36mrun\u001b[0;34m(main, debug)\u001b[0m\n\u001b[1;32m     31\u001b[0m     \"\"\"\n\u001b[1;32m     32\u001b[0m     \u001b[0;32mif\u001b[0m \u001b[0mevents\u001b[0m\u001b[0;34m.\u001b[0m\u001b[0m_get_running_loop\u001b[0m\u001b[0;34m(\u001b[0m\u001b[0;34m)\u001b[0m \u001b[0;32mis\u001b[0m \u001b[0;32mnot\u001b[0m \u001b[0;32mNone\u001b[0m\u001b[0;34m:\u001b[0m\u001b[0;34m\u001b[0m\u001b[0;34m\u001b[0m\u001b[0m\n\u001b[0;32m---> 33\u001b[0;31m         raise RuntimeError(\n\u001b[0m\u001b[1;32m     34\u001b[0m             \"asyncio.run() cannot be called from a running event loop\")\n\u001b[1;32m     35\u001b[0m \u001b[0;34m\u001b[0m\u001b[0m\n",
            "\u001b[0;31mRuntimeError\u001b[0m: asyncio.run() cannot be called from a running event loop"
          ]
        }
      ]
    },
    {
      "cell_type": "code",
      "source": [
        "#9).else\n",
        "guess_num = int(input(\"Enter your number:\"))\n",
        "if guess_num >= 10:\n",
        "  print(\"The number is too big for the program.\")\n",
        "\n",
        "else:\n",
        "  print(\"The number is perfect for the program.\")"
      ],
      "metadata": {
        "colab": {
          "base_uri": "https://localhost:8080/"
        },
        "id": "i4uXtSzqOFJL",
        "outputId": "677a7158-2e92-404b-918e-35a7ba33c44a"
      },
      "execution_count": null,
      "outputs": [
        {
          "output_type": "stream",
          "name": "stdout",
          "text": [
            "Enter your number:5\n",
            "The number is perfect for the program\n"
          ]
        }
      ]
    },
    {
      "cell_type": "code",
      "source": [
        "#10).import\n",
        "import random\n",
        "\n",
        "random_number = random.randint(1, 10)\n",
        "print(\"Random number between 1 and 10:\", random_number)\n"
      ],
      "metadata": {
        "id": "ZK7hDkk6Oo4J",
        "colab": {
          "base_uri": "https://localhost:8080/"
        },
        "outputId": "4ac0324e-2d81-449a-dc56-11a4d0cd8395"
      },
      "execution_count": 1,
      "outputs": [
        {
          "output_type": "stream",
          "name": "stdout",
          "text": [
            "Random number between 1 and 10: 8\n"
          ]
        }
      ]
    },
    {
      "cell_type": "code",
      "source": [
        "#11).pass\n",
        "class MyClass:\n",
        "    def some_method(self):\n",
        "        pass\n",
        "\n",
        "obj = MyClass()\n",
        "\n",
        "obj.some_method()\n",
        "print(\"Method called successfully!\")\n"
      ],
      "metadata": {
        "colab": {
          "base_uri": "https://localhost:8080/"
        },
        "id": "1B9IejNSmxMc",
        "outputId": "b4a0d92c-fc6d-4f6c-c8b0-da620abb69a5"
      },
      "execution_count": 4,
      "outputs": [
        {
          "output_type": "stream",
          "name": "stdout",
          "text": [
            "Method called successfully!\n"
          ]
        }
      ]
    },
    {
      "cell_type": "code",
      "source": [
        "#12).and\n",
        "x = 5\n",
        "y = 10\n",
        "\n",
        "if x > 0 and y > 0:\n",
        "    print(\"Both x and y are greater than 0\")\n",
        "else:\n",
        "    print(\"At least one of x or y is not greater than 0\")\n"
      ],
      "metadata": {
        "colab": {
          "base_uri": "https://localhost:8080/"
        },
        "id": "SCYKbGSDnXI2",
        "outputId": "7793dee8-51f9-4379-f779-8f99664ecf29"
      },
      "execution_count": 5,
      "outputs": [
        {
          "output_type": "stream",
          "name": "stdout",
          "text": [
            "Both x and y are greater than 0\n"
          ]
        }
      ]
    },
    {
      "cell_type": "code",
      "source": [
        "#13).continue\n",
        "numbers = [1, 2, 3, 4, 5, 6, 7, 8, 9, 10]\n",
        "\n",
        "for num in numbers:\n",
        "    if num % 2 == 0:\n",
        "        continue\n",
        "    print(num)\n"
      ],
      "metadata": {
        "colab": {
          "base_uri": "https://localhost:8080/"
        },
        "id": "LFZWuvkPnp_u",
        "outputId": "0238b0ed-b9a7-4e0d-dd15-c3e4e9c1eeaf"
      },
      "execution_count": 6,
      "outputs": [
        {
          "output_type": "stream",
          "name": "stdout",
          "text": [
            "1\n",
            "3\n",
            "5\n",
            "7\n",
            "9\n"
          ]
        }
      ]
    },
    {
      "cell_type": "code",
      "source": [
        "#14).for\n",
        "fruits = [\"apple\", \"banana\", \"orange\", \"grape\", \"kiwi\"]\n",
        "\n",
        "for fruit in fruits:\n",
        "    print(fruit)\n"
      ],
      "metadata": {
        "colab": {
          "base_uri": "https://localhost:8080/"
        },
        "id": "ubAee18cn3l-",
        "outputId": "2de27832-c0be-43de-a257-33fd6735e753"
      },
      "execution_count": 8,
      "outputs": [
        {
          "output_type": "stream",
          "name": "stdout",
          "text": [
            "apple\n",
            "banana\n",
            "orange\n",
            "grape\n",
            "kiwi\n"
          ]
        }
      ]
    },
    {
      "cell_type": "code",
      "source": [
        "#15).lambda\n",
        "square = lambda x: x ** 2\n",
        "\n",
        "print(square(5))\n"
      ],
      "metadata": {
        "colab": {
          "base_uri": "https://localhost:8080/"
        },
        "id": "hMLuj2X4oCs9",
        "outputId": "653d9af5-36ac-4e76-c5fb-493d74cd068a"
      },
      "execution_count": 9,
      "outputs": [
        {
          "output_type": "stream",
          "name": "stdout",
          "text": [
            "25\n"
          ]
        }
      ]
    },
    {
      "cell_type": "code",
      "source": [
        "#16).try\n",
        "try:\n",
        "    num = int(input(\"Enter a number: \"))\n",
        "    print(\"You entered:\", num)\n",
        "except ValueError:\n",
        "    print(\"Invalid input. Please enter a valid integer.\")\n"
      ],
      "metadata": {
        "colab": {
          "base_uri": "https://localhost:8080/"
        },
        "id": "nba-1q_YoLI_",
        "outputId": "0a510223-3d02-4702-c1e3-d2ce744e727c"
      },
      "execution_count": 10,
      "outputs": [
        {
          "output_type": "stream",
          "name": "stdout",
          "text": [
            "Enter a number: 10\n",
            "You entered: 10\n"
          ]
        }
      ]
    },
    {
      "cell_type": "code",
      "source": [
        "#17).True\n",
        "while True:\n",
        "    user_input = input(\"Enter 'exit' to quit: \")\n",
        "    if user_input.lower() == 'exit':\n",
        "        break\n"
      ],
      "metadata": {
        "colab": {
          "base_uri": "https://localhost:8080/"
        },
        "id": "Do0ObnHFoUDQ",
        "outputId": "46557720-60fa-4a9e-fee2-3ebf9520ba1e"
      },
      "execution_count": 11,
      "outputs": [
        {
          "name": "stdout",
          "output_type": "stream",
          "text": [
            "Enter 'exit' to quit: exit\n"
          ]
        }
      ]
    },
    {
      "cell_type": "code",
      "source": [
        "#18).class\n",
        "class Dog:\n",
        "    def bark(self):\n",
        "        print(\"Woof!\")\n",
        "\n",
        "my_dog = Dog()\n",
        "\n",
        "my_dog.bark()\n"
      ],
      "metadata": {
        "colab": {
          "base_uri": "https://localhost:8080/"
        },
        "id": "sNdMUR_Zod-H",
        "outputId": "5af73daa-0adc-46aa-fa78-6c3abc0824be"
      },
      "execution_count": 19,
      "outputs": [
        {
          "output_type": "stream",
          "name": "stdout",
          "text": [
            "Woof!\n"
          ]
        }
      ]
    },
    {
      "cell_type": "code",
      "source": [
        "#19).finally\n",
        "try:\n",
        "    file = open(\"example.txt\", \"r\")\n",
        "\n",
        "    print(file.read())\n",
        "except FileNotFoundError:\n",
        "    print(\"File not found!\")\n",
        "finally:\n",
        "    if 'file' in locals():\n",
        "        file.close()\n",
        "\n"
      ],
      "metadata": {
        "colab": {
          "base_uri": "https://localhost:8080/"
        },
        "id": "qVkFvkzdolNR",
        "outputId": "ad333d63-89a8-4ef9-c40c-3043d274dbc3"
      },
      "execution_count": 59,
      "outputs": [
        {
          "output_type": "stream",
          "name": "stdout",
          "text": [
            "Hello, world!\n"
          ]
        }
      ]
    },
    {
      "cell_type": "code",
      "source": [
        "#20).is\n",
        "x = [1, 2, 3]\n",
        "y = x\n",
        "\n",
        "print(x is y)\n"
      ],
      "metadata": {
        "colab": {
          "base_uri": "https://localhost:8080/"
        },
        "id": "EiPw-KBmo85D",
        "outputId": "ec6dd80c-0749-45eb-bcdc-7710015d1961"
      },
      "execution_count": 21,
      "outputs": [
        {
          "output_type": "stream",
          "name": "stdout",
          "text": [
            "True\n"
          ]
        }
      ]
    },
    {
      "cell_type": "code",
      "source": [
        "#21).return\n",
        "def add_numbers(a, b):\n",
        "    return a + b\n",
        "\n",
        "result = add_numbers(3, 5)\n",
        "print(\"The sum is:\", result)\n"
      ],
      "metadata": {
        "colab": {
          "base_uri": "https://localhost:8080/"
        },
        "id": "mKk5AMmypZm5",
        "outputId": "db09168f-32f1-4662-fc12-971057c1132f"
      },
      "execution_count": 22,
      "outputs": [
        {
          "output_type": "stream",
          "name": "stdout",
          "text": [
            "The sum is: 8\n"
          ]
        }
      ]
    },
    {
      "cell_type": "code",
      "source": [
        "#22).as\n",
        "import datetime as dt\n",
        "\n",
        "def print_current_date():\n",
        "    current_date = dt.datetime.now().strftime(\"%Y-%m-%d\")\n",
        "    print(\"Current date:\", current_date)\n",
        "\n",
        "print_current_date()\n"
      ],
      "metadata": {
        "colab": {
          "base_uri": "https://localhost:8080/"
        },
        "id": "0muZmT9dpjFV",
        "outputId": "f26df7e7-feb0-4303-bad0-5ffda93c4dca"
      },
      "execution_count": 23,
      "outputs": [
        {
          "output_type": "stream",
          "name": "stdout",
          "text": [
            "Current date: 2024-05-15\n"
          ]
        }
      ]
    },
    {
      "cell_type": "code",
      "source": [
        "#23).def\n",
        "def square(x):\n",
        "    return x ** 2\n",
        "\n",
        "result = square(5)\n",
        "print(\"The square of 5 is:\", result)  # Output: The square of 5 is: 25\n"
      ],
      "metadata": {
        "colab": {
          "base_uri": "https://localhost:8080/"
        },
        "id": "EW7y6-fVpwPh",
        "outputId": "cae1e073-8e97-4550-a5bb-75121bf69eb1"
      },
      "execution_count": 24,
      "outputs": [
        {
          "output_type": "stream",
          "name": "stdout",
          "text": [
            "The square of 5 is: 25\n"
          ]
        }
      ]
    },
    {
      "cell_type": "code",
      "source": [
        "#24).from\n",
        "from math import sqrt\n",
        "\n",
        "result = sqrt(16)\n",
        "print(\"The square root of 16 is:\", result)  # Output: The square root of 16 is: 4.0\n"
      ],
      "metadata": {
        "colab": {
          "base_uri": "https://localhost:8080/"
        },
        "id": "SKV7-Rq0p3AG",
        "outputId": "6b37c342-d5c7-4b92-bfd2-05f5d864742d"
      },
      "execution_count": 25,
      "outputs": [
        {
          "output_type": "stream",
          "name": "stdout",
          "text": [
            "The square root of 16 is: 4.0\n"
          ]
        }
      ]
    },
    {
      "cell_type": "code",
      "source": [
        "#25).nonlocal\n",
        "def outer_function():\n",
        "    x = 10\n",
        "\n",
        "    def inner_function():\n",
        "        nonlocal x\n",
        "        x = 20\n",
        "        print(\"Inner function modified x to:\", x)\n",
        "\n",
        "    inner_function()\n",
        "    print(\"Outer function's x value:\", x)\n",
        "\n",
        "outer_function()\n"
      ],
      "metadata": {
        "colab": {
          "base_uri": "https://localhost:8080/"
        },
        "id": "Z6KhGCjnqIl-",
        "outputId": "ee30b1e2-9c03-49cc-d97d-d3a72490bc95"
      },
      "execution_count": 26,
      "outputs": [
        {
          "output_type": "stream",
          "name": "stdout",
          "text": [
            "Inner function modified x to: 20\n",
            "Outer function's x value: 20\n"
          ]
        }
      ]
    },
    {
      "cell_type": "code",
      "source": [
        "#26).while\n",
        "count = 1\n",
        "while count <= 5:\n",
        "    print(count)\n",
        "    count += 1\n"
      ],
      "metadata": {
        "colab": {
          "base_uri": "https://localhost:8080/"
        },
        "id": "LZFSS1_QqQAO",
        "outputId": "4b28c5c0-3e08-4bfa-ce10-222e1f05e346"
      },
      "execution_count": 27,
      "outputs": [
        {
          "output_type": "stream",
          "name": "stdout",
          "text": [
            "1\n",
            "2\n",
            "3\n",
            "4\n",
            "5\n"
          ]
        }
      ]
    },
    {
      "cell_type": "code",
      "source": [
        "!pip install nest_asyncio"
      ],
      "metadata": {
        "colab": {
          "base_uri": "https://localhost:8080/"
        },
        "id": "xYzAzgNLrA1W",
        "outputId": "014ff4b3-3534-4373-bdac-d5a127363e4d"
      },
      "execution_count": 32,
      "outputs": [
        {
          "output_type": "stream",
          "name": "stdout",
          "text": [
            "Requirement already satisfied: nest_asyncio in /usr/local/lib/python3.10/dist-packages (1.6.0)\n"
          ]
        }
      ]
    },
    {
      "cell_type": "code",
      "source": [
        "#27).elif\n",
        "score = 75\n",
        "\n",
        "if score >= 90:\n",
        "    grade = \"A\"\n",
        "elif score >= 80:\n",
        "    grade = \"B\"\n",
        "elif score >= 70:\n",
        "    grade = \"C\"\n",
        "elif score >= 60:\n",
        "    grade = \"D\"\n",
        "else:\n",
        "    grade = \"F\"\n",
        "\n",
        "print(\"Grade:\", grade)\n"
      ],
      "metadata": {
        "colab": {
          "base_uri": "https://localhost:8080/"
        },
        "id": "_9RGSDGWrN_m",
        "outputId": "8fbc873c-f1b7-4efc-e6b9-6a928fff0903"
      },
      "execution_count": 37,
      "outputs": [
        {
          "output_type": "stream",
          "name": "stdout",
          "text": [
            "Grade: C\n"
          ]
        }
      ]
    },
    {
      "cell_type": "code",
      "source": [
        "#28).not\n",
        "x = 5\n",
        "\n",
        "if not x == 10:\n",
        "    print(\"x is not equal to 10\")\n"
      ],
      "metadata": {
        "colab": {
          "base_uri": "https://localhost:8080/"
        },
        "id": "ejkTEM5krxhF",
        "outputId": "1b6ed7bd-73bf-4db4-af13-a67f352b78ad"
      },
      "execution_count": 38,
      "outputs": [
        {
          "output_type": "stream",
          "name": "stdout",
          "text": [
            "x is not equal to 10\n"
          ]
        }
      ]
    },
    {
      "cell_type": "code",
      "source": [
        "#29).with\n",
        "with open(\"example.txt\", \"w\") as file:\n",
        "    file.write(\"Hello, world!\")\n",
        "\n",
        "with open(\"example.txt\", \"r\") as file:\n",
        "    content = file.read()\n",
        "    print(content)\n"
      ],
      "metadata": {
        "colab": {
          "base_uri": "https://localhost:8080/"
        },
        "id": "q_nRIl4or9So",
        "outputId": "38441c9d-fdf7-4a52-8e5a-2b581288adf0"
      },
      "execution_count": 39,
      "outputs": [
        {
          "output_type": "stream",
          "name": "stdout",
          "text": [
            "Hello, world!\n"
          ]
        }
      ]
    },
    {
      "cell_type": "code",
      "source": [
        "#30).assert\n",
        "x = 5\n",
        "y = 10\n",
        "\n",
        "assert x < y, \"x should be less than y\"\n",
        "print(\"x is less than y\")\n"
      ],
      "metadata": {
        "colab": {
          "base_uri": "https://localhost:8080/"
        },
        "id": "fg_SI9ZJsGle",
        "outputId": "3476c273-e711-4bdc-d373-d09082e003a7"
      },
      "execution_count": 40,
      "outputs": [
        {
          "output_type": "stream",
          "name": "stdout",
          "text": [
            "x is less than y\n"
          ]
        }
      ]
    },
    {
      "cell_type": "code",
      "source": [
        "#31).del\n",
        "numbers = [1, 2, 3, 4, 5]\n",
        "\n",
        "print(\"Before deletion:\", numbers)\n",
        "\n",
        "del numbers[2]  # Deleting the element at index 2\n",
        "\n",
        "print(\"After deletion:\", numbers)\n"
      ],
      "metadata": {
        "colab": {
          "base_uri": "https://localhost:8080/"
        },
        "id": "IEsSMRZesQUf",
        "outputId": "67ca1716-e6ea-4d2a-c945-2e9c982dbd4a"
      },
      "execution_count": 41,
      "outputs": [
        {
          "output_type": "stream",
          "name": "stdout",
          "text": [
            "Before deletion: [1, 2, 3, 4, 5]\n",
            "After deletion: [1, 2, 4, 5]\n"
          ]
        }
      ]
    },
    {
      "cell_type": "code",
      "source": [
        "#32).global\n",
        "x = 10\n",
        "\n",
        "def modify_global():\n",
        "    global x\n",
        "    x = 20\n",
        "\n",
        "print(\"Before modification, x =\", x)\n",
        "modify_global()\n",
        "print(\"After modification, x =\", x)\n"
      ],
      "metadata": {
        "colab": {
          "base_uri": "https://localhost:8080/"
        },
        "id": "UxzOcS-OsY2M",
        "outputId": "f2a89bc4-32f6-470d-c569-28eeb3bdd839"
      },
      "execution_count": 42,
      "outputs": [
        {
          "output_type": "stream",
          "name": "stdout",
          "text": [
            "Before modification, x = 10\n",
            "After modification, x = 20\n"
          ]
        }
      ]
    },
    {
      "cell_type": "code",
      "source": [
        "#33).or\n",
        "x = 5\n",
        "y = 10\n",
        "\n",
        "if x == 5 or y == 5:\n",
        "    print(\"At least one of x or y is equal to 5\")\n",
        "else:\n",
        "    print(\"Neither x nor y is equal to 5\")\n"
      ],
      "metadata": {
        "colab": {
          "base_uri": "https://localhost:8080/"
        },
        "id": "eT5SuzZgsfny",
        "outputId": "dd0fd8bf-2d3c-4505-e1f2-113ab3dc8c29"
      },
      "execution_count": 43,
      "outputs": [
        {
          "output_type": "stream",
          "name": "stdout",
          "text": [
            "At least one of x or y is equal to 5\n"
          ]
        }
      ]
    },
    {
      "cell_type": "code",
      "source": [
        "#34).yield\n",
        "def square_generator(n):\n",
        "    for i in range(n):\n",
        "        yield i ** 2\n",
        "\n",
        "squares = square_generator(5)\n",
        "\n",
        "for square in squares:\n",
        "    print(square)\n"
      ],
      "metadata": {
        "colab": {
          "base_uri": "https://localhost:8080/"
        },
        "id": "vcbB4rXMsm1n",
        "outputId": "f677131a-1189-43fa-8923-9f814d804430"
      },
      "execution_count": 44,
      "outputs": [
        {
          "output_type": "stream",
          "name": "stdout",
          "text": [
            "0\n",
            "1\n",
            "4\n",
            "9\n",
            "16\n"
          ]
        }
      ]
    },
    {
      "cell_type": "code",
      "source": [
        "#35).async\n",
        "import asyncio\n",
        "\n",
        "async def hello():\n",
        "    print(\"Hello\")\n",
        "    await asyncio.sleep(1)  # Pause for 1 second\n",
        "    print(\"World\")\n",
        "\n",
        "async def main():\n",
        "    await hello()\n",
        "\n",
        "asyncio.run(main())"
      ],
      "metadata": {
        "colab": {
          "base_uri": "https://localhost:8080/",
          "height": 297
        },
        "id": "hBTx1Qq21ieL",
        "outputId": "ddd19206-91ea-4e65-db69-9fd7fb82a5f5"
      },
      "execution_count": 66,
      "outputs": [
        {
          "output_type": "error",
          "ename": "RuntimeError",
          "evalue": "asyncio.run() cannot be called from a running event loop",
          "traceback": [
            "\u001b[0;31m---------------------------------------------------------------------------\u001b[0m",
            "\u001b[0;31mRuntimeError\u001b[0m                              Traceback (most recent call last)",
            "\u001b[0;32m<ipython-input-66-55fa3a210e2c>\u001b[0m in \u001b[0;36m<cell line: 12>\u001b[0;34m()\u001b[0m\n\u001b[1;32m     10\u001b[0m     \u001b[0;32mawait\u001b[0m \u001b[0mhello\u001b[0m\u001b[0;34m(\u001b[0m\u001b[0;34m)\u001b[0m\u001b[0;34m\u001b[0m\u001b[0;34m\u001b[0m\u001b[0m\n\u001b[1;32m     11\u001b[0m \u001b[0;34m\u001b[0m\u001b[0m\n\u001b[0;32m---> 12\u001b[0;31m \u001b[0masyncio\u001b[0m\u001b[0;34m.\u001b[0m\u001b[0mrun\u001b[0m\u001b[0;34m(\u001b[0m\u001b[0mmain\u001b[0m\u001b[0;34m(\u001b[0m\u001b[0;34m)\u001b[0m\u001b[0;34m)\u001b[0m\u001b[0;34m\u001b[0m\u001b[0;34m\u001b[0m\u001b[0m\n\u001b[0m",
            "\u001b[0;32m/usr/lib/python3.10/asyncio/runners.py\u001b[0m in \u001b[0;36mrun\u001b[0;34m(main, debug)\u001b[0m\n\u001b[1;32m     31\u001b[0m     \"\"\"\n\u001b[1;32m     32\u001b[0m     \u001b[0;32mif\u001b[0m \u001b[0mevents\u001b[0m\u001b[0;34m.\u001b[0m\u001b[0m_get_running_loop\u001b[0m\u001b[0;34m(\u001b[0m\u001b[0;34m)\u001b[0m \u001b[0;32mis\u001b[0m \u001b[0;32mnot\u001b[0m \u001b[0;32mNone\u001b[0m\u001b[0;34m:\u001b[0m\u001b[0;34m\u001b[0m\u001b[0;34m\u001b[0m\u001b[0m\n\u001b[0;32m---> 33\u001b[0;31m         raise RuntimeError(\n\u001b[0m\u001b[1;32m     34\u001b[0m             \"asyncio.run() cannot be called from a running event loop\")\n\u001b[1;32m     35\u001b[0m \u001b[0;34m\u001b[0m\u001b[0m\n",
            "\u001b[0;31mRuntimeError\u001b[0m: asyncio.run() cannot be called from a running event loop"
          ]
        }
      ]
    }
  ]
}